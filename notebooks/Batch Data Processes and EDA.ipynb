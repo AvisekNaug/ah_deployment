{
 "cells": [
  {
   "cell_type": "markdown",
   "metadata": {
    "heading_collapsed": true
   },
   "source": [
    "## Data Collection"
   ]
  },
  {
   "cell_type": "code",
   "execution_count": 1,
   "metadata": {
    "ExecuteTime": {
     "end_time": "2020-06-26T18:48:25.487269Z",
     "start_time": "2020-06-26T18:48:24.981439Z"
    },
    "hidden": true
   },
   "outputs": [],
   "source": [
    "# including the project directory to the notebook level\n",
    "import os\n",
    "import sys\n",
    "module_path = os.path.abspath(os.path.join('..'))\n",
    "if module_path not in sys.path:\n",
    "    sys.path.append(module_path)\n",
    "    \n",
    "# import modules\n",
    "from alumni_scripts import data_process as dp\n",
    "import json"
   ]
  },
  {
   "cell_type": "code",
   "execution_count": 35,
   "metadata": {
    "ExecuteTime": {
     "end_time": "2020-06-26T18:06:59.581490Z",
     "start_time": "2020-06-26T18:06:59.131895Z"
    },
    "hidden": true
   },
   "outputs": [],
   "source": [
    "# run a single update of the data pull\n",
    "with open('../auths.json', 'r') as fp:\n",
    "    api_args = json.load(fp)\n",
    "\n",
    "time_args = {\n",
    "    'start_year': 2020,'start_month': 6,'start_day': 26,'start_hour': 12,'start_minute': 34,'start_second': 23,\n",
    "    'end_year':   2020,'end_month'  : 6,'end_day'  : 26,'end_hour'  : 13,'end_minute'  :  4,'end_second'  : 23,\n",
    "    'trend_id': '2681',\n",
    "    'save_path':'../data/raw_data/alumni_data.csv'\n",
    "}\n",
    "api_args.update(time_args)\n",
    "\n",
    "dp.pull_offline_data(**api_args)"
   ]
  },
  {
   "cell_type": "code",
   "execution_count": 2,
   "metadata": {
    "hidden": true,
    "run_control": {
     "marked": false
    }
   },
   "outputs": [
    {
     "name": "stdout",
     "output_type": "stream",
     "text": [
      "Success!\n",
      "Success!\n",
      "Success!\n",
      "Success!\n"
     ]
    }
   ],
   "source": [
    "# download data in a loop\n",
    "time_args = [\n",
    "    {\n",
    "    'start_year': 2018,'start_month': 7,'start_day': 1,'start_hour': 0,'start_minute': 0,'start_second': 0,\n",
    "    'end_year': 2018,'end_month': 12,'end_day': 31,'end_hour': 23,'end_minute': 59,'end_second': 59,\n",
    "    'trend_id': '2681',\n",
    "    'save_path':'../data/raw_data/alumni_data_jul2dec2018.csv'\n",
    "    },\n",
    "    {\n",
    "    'start_year': 2019,'start_month': 1,'start_day': 1,'start_hour': 0,'start_minute': 0,'start_second': 0,\n",
    "    'end_year': 2019,'end_month': 6,'end_day': 30,'end_hour': 23,'end_minute': 59,'end_second': 59,\n",
    "    'trend_id': '2681',\n",
    "    'save_path':'../data/raw_data/alumni_data_jan2jun2019.csv'  \n",
    "    },\n",
    "    {\n",
    "    'start_year': 2019,'start_month': 7,'start_day': 1,'start_hour': 0,'start_minute': 0,'start_second': 0,\n",
    "    'end_year': 2019,'end_month': 12,'end_day': 31,'end_hour': 23,'end_minute': 59,'end_second': 59,\n",
    "    'trend_id': '2681',\n",
    "    'save_path':'../data/raw_data/alumni_data_jul2dec2019.csv'  \n",
    "    },\n",
    "    {\n",
    "    'start_year': 2020,'start_month': 1,'start_day': 1,'start_hour': 0,'start_minute': 0,'start_second': 0,\n",
    "    'end_year': 2020,'end_month': 6,'end_day': 15,'end_hour': 23,'end_minute': 59,'end_second': 59,\n",
    "    'trend_id': '2681',\n",
    "    'save_path':'../data/raw_data/alumni_data_jan2jun2020.csv'  \n",
    "    }\n",
    "]\n",
    "for i in time_args:\n",
    "    with open('../auths.json', 'r') as fp:\n",
    "        api_args = json.load(fp)\n",
    "    api_args.update(i)\n",
    "    dp.pull_offline_data(**api_args)\n",
    "    print(\"Success!\")"
   ]
  },
  {
   "cell_type": "markdown",
   "metadata": {
    "hidden": true
   },
   "source": [
    "### Deployment testing"
   ]
  },
  {
   "cell_type": "code",
   "execution_count": 2,
   "metadata": {
    "ExecuteTime": {
     "end_time": "2020-06-26T18:48:38.178110Z",
     "start_time": "2020-06-26T18:48:34.514080Z"
    },
    "hidden": true
   },
   "outputs": [
    {
     "name": "stderr",
     "output_type": "stream",
     "text": [
      "/data/nauga/SmartBuildings/venvs/sbvenv1/lib/python3.6/site-packages/tensorflow/python/framework/dtypes.py:516: FutureWarning: Passing (type, 1) or '1type' as a synonym of type is deprecated; in a future version of numpy, it will be understood as (type, (1,)) / '(1,)type'.\n",
      "  _np_qint8 = np.dtype([(\"qint8\", np.int8, 1)])\n",
      "/data/nauga/SmartBuildings/venvs/sbvenv1/lib/python3.6/site-packages/tensorflow/python/framework/dtypes.py:517: FutureWarning: Passing (type, 1) or '1type' as a synonym of type is deprecated; in a future version of numpy, it will be understood as (type, (1,)) / '(1,)type'.\n",
      "  _np_quint8 = np.dtype([(\"quint8\", np.uint8, 1)])\n",
      "/data/nauga/SmartBuildings/venvs/sbvenv1/lib/python3.6/site-packages/tensorflow/python/framework/dtypes.py:518: FutureWarning: Passing (type, 1) or '1type' as a synonym of type is deprecated; in a future version of numpy, it will be understood as (type, (1,)) / '(1,)type'.\n",
      "  _np_qint16 = np.dtype([(\"qint16\", np.int16, 1)])\n",
      "/data/nauga/SmartBuildings/venvs/sbvenv1/lib/python3.6/site-packages/tensorflow/python/framework/dtypes.py:519: FutureWarning: Passing (type, 1) or '1type' as a synonym of type is deprecated; in a future version of numpy, it will be understood as (type, (1,)) / '(1,)type'.\n",
      "  _np_quint16 = np.dtype([(\"quint16\", np.uint16, 1)])\n",
      "/data/nauga/SmartBuildings/venvs/sbvenv1/lib/python3.6/site-packages/tensorflow/python/framework/dtypes.py:520: FutureWarning: Passing (type, 1) or '1type' as a synonym of type is deprecated; in a future version of numpy, it will be understood as (type, (1,)) / '(1,)type'.\n",
      "  _np_qint32 = np.dtype([(\"qint32\", np.int32, 1)])\n",
      "/data/nauga/SmartBuildings/venvs/sbvenv1/lib/python3.6/site-packages/tensorflow/python/framework/dtypes.py:525: FutureWarning: Passing (type, 1) or '1type' as a synonym of type is deprecated; in a future version of numpy, it will be understood as (type, (1,)) / '(1,)type'.\n",
      "  np_resource = np.dtype([(\"resource\", np.ubyte, 1)])\n",
      "/data/nauga/SmartBuildings/venvs/sbvenv1/lib/python3.6/site-packages/tensorboard/compat/tensorflow_stub/dtypes.py:541: FutureWarning: Passing (type, 1) or '1type' as a synonym of type is deprecated; in a future version of numpy, it will be understood as (type, (1,)) / '(1,)type'.\n",
      "  _np_qint8 = np.dtype([(\"qint8\", np.int8, 1)])\n",
      "/data/nauga/SmartBuildings/venvs/sbvenv1/lib/python3.6/site-packages/tensorboard/compat/tensorflow_stub/dtypes.py:542: FutureWarning: Passing (type, 1) or '1type' as a synonym of type is deprecated; in a future version of numpy, it will be understood as (type, (1,)) / '(1,)type'.\n",
      "  _np_quint8 = np.dtype([(\"quint8\", np.uint8, 1)])\n",
      "/data/nauga/SmartBuildings/venvs/sbvenv1/lib/python3.6/site-packages/tensorboard/compat/tensorflow_stub/dtypes.py:543: FutureWarning: Passing (type, 1) or '1type' as a synonym of type is deprecated; in a future version of numpy, it will be understood as (type, (1,)) / '(1,)type'.\n",
      "  _np_qint16 = np.dtype([(\"qint16\", np.int16, 1)])\n",
      "/data/nauga/SmartBuildings/venvs/sbvenv1/lib/python3.6/site-packages/tensorboard/compat/tensorflow_stub/dtypes.py:544: FutureWarning: Passing (type, 1) or '1type' as a synonym of type is deprecated; in a future version of numpy, it will be understood as (type, (1,)) / '(1,)type'.\n",
      "  _np_quint16 = np.dtype([(\"quint16\", np.uint16, 1)])\n",
      "/data/nauga/SmartBuildings/venvs/sbvenv1/lib/python3.6/site-packages/tensorboard/compat/tensorflow_stub/dtypes.py:545: FutureWarning: Passing (type, 1) or '1type' as a synonym of type is deprecated; in a future version of numpy, it will be understood as (type, (1,)) / '(1,)type'.\n",
      "  _np_qint32 = np.dtype([(\"qint32\", np.int32, 1)])\n",
      "/data/nauga/SmartBuildings/venvs/sbvenv1/lib/python3.6/site-packages/tensorboard/compat/tensorflow_stub/dtypes.py:550: FutureWarning: Passing (type, 1) or '1type' as a synonym of type is deprecated; in a future version of numpy, it will be understood as (type, (1,)) / '(1,)type'.\n",
      "  np_resource = np.dtype([(\"resource\", np.ubyte, 1)])\n"
     ]
    },
    {
     "data": {
      "text/html": [
       "<div>\n",
       "<style scoped>\n",
       "    .dataframe tbody tr th:only-of-type {\n",
       "        vertical-align: middle;\n",
       "    }\n",
       "\n",
       "    .dataframe tbody tr th {\n",
       "        vertical-align: top;\n",
       "    }\n",
       "\n",
       "    .dataframe thead th {\n",
       "        text-align: right;\n",
       "    }\n",
       "</style>\n",
       "<table border=\"1\" class=\"dataframe\">\n",
       "  <thead>\n",
       "    <tr style=\"text-align: right;\">\n",
       "      <th></th>\n",
       "      <th>oat</th>\n",
       "      <th>oah</th>\n",
       "      <th>wbt</th>\n",
       "      <th>avg_stpt</th>\n",
       "      <th>sat</th>\n",
       "    </tr>\n",
       "    <tr>\n",
       "      <th>time</th>\n",
       "      <th></th>\n",
       "      <th></th>\n",
       "      <th></th>\n",
       "      <th></th>\n",
       "      <th></th>\n",
       "    </tr>\n",
       "  </thead>\n",
       "  <tbody>\n",
       "    <tr>\n",
       "      <th>2020-06-26 13:45:00+00:00</th>\n",
       "      <td>0.797134</td>\n",
       "      <td>0.638213</td>\n",
       "      <td>0.790321</td>\n",
       "      <td>0.961214</td>\n",
       "      <td>0.802991</td>\n",
       "    </tr>\n",
       "  </tbody>\n",
       "</table>\n",
       "</div>"
      ],
      "text/plain": [
       "                                oat       oah       wbt  avg_stpt       sat\n",
       "time                                                                       \n",
       "2020-06-26 13:45:00+00:00  0.797134  0.638213  0.790321  0.961214  0.802991"
      ]
     },
     "execution_count": 2,
     "metadata": {},
     "output_type": "execute_result"
    }
   ],
   "source": [
    "# testing the deploy control thread\n",
    "\"\"\" change path in the deploy control thread to save the file to appropriate location\"\"\"\n",
    "import warnings\n",
    "with warnings.catch_warnings():\n",
    "    from alumni_scripts import deploy_control as dc\n",
    "\n",
    "with open('../auths.json', 'r') as fp:\n",
    "    api_args = json.load(fp)\n",
    "with open('../alumni_scripts/meta_data.json', 'r') as fp:\n",
    "    meta_data_ = json.load(fp)\n",
    "obs_space_vars = ['oat', 'oah', 'wbt', 'avg_stpt', 'sat']\n",
    "\n",
    "df = dc.get_real_obs(api_args, meta_data_, obs_space_vars)\n",
    "\n",
    "df"
   ]
  },
  {
   "cell_type": "markdown",
   "metadata": {
    "heading_collapsed": true
   },
   "source": [
    "## Create Offline Batch Time Series Data Base for Alumni Hall data"
   ]
  },
  {
   "cell_type": "code",
   "execution_count": 1,
   "metadata": {
    "ExecuteTime": {
     "end_time": "2020-06-21T16:59:06.786373Z",
     "start_time": "2020-06-21T16:59:05.402358Z"
    },
    "hidden": true
   },
   "outputs": [],
   "source": [
    "# including the project directory to the notebook level\n",
    "import os\n",
    "import sys\n",
    "module_path = os.path.abspath(os.path.join('..'))\n",
    "if module_path not in sys.path:\n",
    "    sys.path.append(module_path)\n",
    "    \n",
    "# import modules\n",
    "from alumni_scripts import data_process as dp\n",
    "from alumni_scripts import alumni_data_utils as a_utils\n",
    "import json\n",
    "import pandas as pd\n",
    "from influxdb import DataFrameClient\n",
    "from collections import OrderedDict\n",
    "from CoolProp.HumidAirProp import HAPropsSI"
   ]
  },
  {
   "cell_type": "markdown",
   "metadata": {
    "hidden": true
   },
   "source": [
    "### Collate the data from csv files"
   ]
  },
  {
   "cell_type": "code",
   "execution_count": 2,
   "metadata": {
    "ExecuteTime": {
     "end_time": "2020-06-21T16:59:09.828808Z",
     "start_time": "2020-06-21T16:59:09.100698Z"
    },
    "hidden": true
   },
   "outputs": [],
   "source": [
    "# collate batch of data\n",
    "file_names = ['jul2dec2018', 'jan2jun2019', 'jul2dec2019', 'jan2jun2020']\n",
    "dflist = []\n",
    "for fname in file_names:\n",
    "    df_ = pd.read_csv('../data/raw_data/alumni_data_{}.csv'.format(fname))\n",
    "    df_['time'] = pd.to_datetime(df_['time'])\n",
    "    df_.set_index(keys='time',inplace=True, drop = True)\n",
    "    dflist.append(df_)\n",
    "df = a_utils.mergerows(dflist)"
   ]
  },
  {
   "cell_type": "markdown",
   "metadata": {
    "hidden": true
   },
   "source": [
    "### Calculate Wet Bulb Temperature and add it to the dataframe"
   ]
  },
  {
   "cell_type": "code",
   "execution_count": 3,
   "metadata": {
    "ExecuteTime": {
     "end_time": "2020-06-21T17:00:01.972713Z",
     "start_time": "2020-06-21T17:00:01.959453Z"
    },
    "hidden": true
   },
   "outputs": [],
   "source": [
    "rh = df['WeatherDataProfile humidity']/100\n",
    "rh = rh.to_numpy()\n",
    "t_db = 5*(df['AHU_1 outdoorAirTemp']-32)/9 + 273.15\n",
    "t_db = t_db.to_numpy()"
   ]
  },
  {
   "cell_type": "code",
   "execution_count": null,
   "metadata": {
    "ExecuteTime": {
     "end_time": "2020-06-21T17:16:22.674946Z",
     "start_time": "2020-06-21T17:00:06.936402Z"
    },
    "hidden": true
   },
   "outputs": [],
   "source": [
    "T = HAPropsSI('T_wb','R',rh,'T',t_db,'P',101325)\n",
    "t_f = 9*(T-273.15)/5 + 32\n",
    "df['wbt'] = t_f"
   ]
  },
  {
   "cell_type": "markdown",
   "metadata": {
    "hidden": true
   },
   "source": [
    "### Create meta data"
   ]
  },
  {
   "cell_type": "code",
   "execution_count": 9,
   "metadata": {
    "ExecuteTime": {
     "end_time": "2020-06-21T17:19:07.937617Z",
     "start_time": "2020-06-21T17:19:07.687429Z"
    },
    "hidden": true,
    "run_control": {
     "marked": false
    }
   },
   "outputs": [],
   "source": [
    "# Create column_aliases\n",
    "d1 = {'column_names': list(df.columns)}\n",
    "column_aliases = [\n",
    "    'pchwst', 'vrf50', 'oat', 'sat', 'sat_stpt', 'oah', 'vrf67', 'pchw_flow',\n",
    "    'hwe', 'vrf1', 'vrf30', 'vrf34', 'vrf74', 'cwe', 'hws_st_stpt', 'vrf60',\n",
    "    'vrf63', 'hws_st', 'hws_vlv1', 'vrf77', 'vrf64', 'vrf10', 'ee', 'hws_rt',\n",
    "    'vrf100', 'vrf40', 'hws_flow', 'vrf108', 'vrf20', 'wbt'\n",
    "]\n",
    "\n",
    "d1['column_agg_type'] = {\n",
    "    \"pchwst\": \"mean\",\"vrf50\": \"mean\",\"oat\": \"mean\",\"sat\": \"mean\",\"sat_stpt\": \"mean\",\"oah\": \"mean\",\n",
    "    \"vrf67\": \"mean\",\"pchw_flow\": \"sum\",\"hwe\": \"sum\",\"vrf1\": \"mean\",\"vrf30\": \"mean\",\"vrf34\": \"mean\",\n",
    "    \"vrf74\": \"mean\",\"cwe\": \"sum\",\"hws_st_stpt\": \"mean\",\"vrf60\": \"mean\",\"vrf63\": \"mean\",\"hws_st\": \"mean\",\n",
    "    \"hws_vlv1\": \"sum\",\"vrf77\": \"mean\", \"vrf64\": \"mean\",\"vrf10\": \"mean\",\"ee\": \"sum\",\"hws_rt\": \"mean\",\n",
    "    \"vrf100\": \"mean\",\"vrf40\": \"mean\",\"hws_flow\": \"sum\",\"vrf108\": \"mean\",\"vrf20\": \"mean\", 'wbt' : \"mean\"\n",
    "}\n",
    "\n",
    "# Create column alias\n",
    "d2 = OrderedDict()\n",
    "for i, j in zip(df.columns, column_aliases):\n",
    "    d2.update({j: i})\n",
    "d1['column_aliases'] = d2\n",
    "\n",
    "df.columns = column_aliases\n",
    "\n",
    "# Create column stats\n",
    "stats = {}\n",
    "d3 = OrderedDict(df.describe())\n",
    "for key, alias in zip(d3.keys(), column_aliases):\n",
    "    stats[alias] = dict(d3[key])\n",
    "d1['column_stats'] = stats"
   ]
  },
  {
   "cell_type": "markdown",
   "metadata": {
    "hidden": true
   },
   "source": [
    "### Create half hour stats for the data"
   ]
  },
  {
   "cell_type": "code",
   "execution_count": 10,
   "metadata": {
    "ExecuteTime": {
     "end_time": "2020-06-21T17:19:11.453611Z",
     "start_time": "2020-06-21T17:19:11.167137Z"
    },
    "hidden": true
   },
   "outputs": [],
   "source": [
    "# aggregate data\n",
    "rolling_sum_target, rolling_mean_target = [], []\n",
    "for key, value in d1['column_agg_type'].items():\n",
    "    if value == 'sum': rolling_sum_target.append(key)\n",
    "    else: rolling_mean_target.append(key)\n",
    "\n",
    "df_agg = df.copy()\n",
    "        \n",
    "df_agg[rolling_sum_target] =  a_utils.window_sum(df_agg, window_size=6, column_names=rolling_sum_target)\n",
    "df_agg[rolling_mean_target] =  a_utils.window_mean(df_agg, window_size=6, column_names=rolling_mean_target)\n",
    "df_agg = a_utils.dropNaNrows(df_agg)\n",
    "# sample at half hour\n",
    "df_agg = a_utils.sample_timeseries_df(df_agg, period=6)\n",
    "\n",
    "# Create column stats for half hour data\n",
    "stats_halfhour = {}\n",
    "d4 = OrderedDict(df_agg.describe())\n",
    "for key, alias in zip(d4.keys(),column_aliases):\n",
    "    stats_halfhour[alias] = dict(d4[key])\n",
    "d1['column_stats_half_hour'] = stats_halfhour"
   ]
  },
  {
   "cell_type": "code",
   "execution_count": 11,
   "metadata": {
    "ExecuteTime": {
     "end_time": "2020-06-21T17:19:13.689909Z",
     "start_time": "2020-06-21T17:19:13.680430Z"
    },
    "hidden": true
   },
   "outputs": [],
   "source": [
    "# Create meta data json file\n",
    "with open('../alumni_scripts/meta_data.json', 'w') as fp:\n",
    "    json.dump(d1, fp, indent=4)"
   ]
  },
  {
   "cell_type": "markdown",
   "metadata": {
    "hidden": true
   },
   "source": [
    "### Remove outliers"
   ]
  },
  {
   "cell_type": "code",
   "execution_count": 12,
   "metadata": {
    "ExecuteTime": {
     "end_time": "2020-06-21T17:19:29.004848Z",
     "start_time": "2020-06-21T17:19:28.836280Z"
    },
    "hidden": true
   },
   "outputs": [],
   "source": [
    "df_cleaned = dp.offline_batch_data_clean(meta_data_path='../alumni_scripts/meta_data.json', df = df)"
   ]
  },
  {
   "cell_type": "code",
   "execution_count": 13,
   "metadata": {
    "ExecuteTime": {
     "end_time": "2020-06-21T17:19:37.939990Z",
     "start_time": "2020-06-21T17:19:37.935222Z"
    },
    "hidden": true
   },
   "outputs": [],
   "source": [
    "df_cleaned.columns = column_aliases"
   ]
  },
  {
   "cell_type": "markdown",
   "metadata": {
    "hidden": true
   },
   "source": [
    "### Push data to a database"
   ]
  },
  {
   "cell_type": "code",
   "execution_count": 14,
   "metadata": {
    "ExecuteTime": {
     "end_time": "2020-06-21T17:20:39.849700Z",
     "start_time": "2020-06-21T17:20:29.594431Z"
    },
    "hidden": true
   },
   "outputs": [],
   "source": [
    "\"\"\"\n",
    "before the next steps launch influxd client at a cli\n",
    "sudo influxd\n",
    "\"\"\"\n",
    "# launch python client for influxdb\n",
    "client = DataFrameClient(host='localhost', port=8086)\n",
    "# create a database inc case it's not there\n",
    "client.create_database('bdx_batch_db')\n",
    "# get list of database\n",
    "client.get_list_database()\n",
    "# switch to the databaase you want\n",
    "client.switch_database('bdx_batch_db')\n",
    "# write \"dataframe\" as \"measurements\"\n",
    "client.write_points(dataframe=df_cleaned,\n",
    "                    measurement='alumni_data_v2',\n",
    "                    tags={\n",
    "                        'data_cleaned': 'True',\n",
    "                        'aggregated': False,\n",
    "                        'time-interval': '5 minutes'\n",
    "                    },\n",
    "                    protocol='line',\n",
    "                    batch_size=5000)\n",
    "# see measurement added to curent db\n",
    "client.get_list_measurements()\n",
    "client.close()"
   ]
  },
  {
   "cell_type": "markdown",
   "metadata": {
    "hidden": true
   },
   "source": [
    "### Read data from the database"
   ]
  },
  {
   "cell_type": "code",
   "execution_count": null,
   "metadata": {
    "ExecuteTime": {
     "end_time": "2020-06-21T17:21:45.388287Z",
     "start_time": "2020-06-21T17:21:44.761226Z"
    },
    "hidden": true
   },
   "outputs": [],
   "source": [
    "\"\"\"\n",
    "before the next steps launch influxd client at a cli\n",
    "sudo influxd\n",
    "\"\"\"\n",
    "# launch python client for influxdb\n",
    "client = DataFrameClient(host='localhost', port=8086)\n",
    "# switch to the databaase you want\n",
    "client.switch_database('bdx_batch_db')\n",
    "results_obj = client.query(\n",
    "    \"select * from alumni_data_v2 \\\n",
    "    where time >= '2018-11-15 12:25:00' - 13w \\\n",
    "    and time < '2018-11-15 12:25:00'\"\n",
    ")\n",
    "df2 = results_obj['alumni_data_v2']\n",
    "df2"
   ]
  },
  {
   "cell_type": "markdown",
   "metadata": {
    "heading_collapsed": true
   },
   "source": [
    "## Read the data from the data base"
   ]
  },
  {
   "cell_type": "code",
   "execution_count": 1,
   "metadata": {
    "ExecuteTime": {
     "end_time": "2020-06-22T17:53:08.213080Z",
     "start_time": "2020-06-22T17:53:06.664023Z"
    },
    "hidden": true
   },
   "outputs": [],
   "source": [
    "# including the project directory to the notebook level\n",
    "import os\n",
    "import sys\n",
    "module_path = os.path.abspath(os.path.join('..'))\n",
    "if module_path not in sys.path:\n",
    "    sys.path.append(module_path)\n",
    "    \n",
    "# import modules\n",
    "from alumni_scripts import data_process as dp\n",
    "from alumni_scripts import alumni_data_utils as utils\n",
    "import json\n",
    "import pandas as pd\n",
    "from influxdb import DataFrameClient"
   ]
  },
  {
   "cell_type": "code",
   "execution_count": 46,
   "metadata": {
    "ExecuteTime": {
     "end_time": "2020-06-22T18:10:44.190923Z",
     "start_time": "2020-06-22T18:10:38.649245Z"
    },
    "hidden": true
   },
   "outputs": [],
   "source": [
    "\"\"\"\n",
    "before the next steps launch influxd client at a cli\n",
    "sudo influxd\n",
    "\"\"\"\n",
    "# launch python client for influxdb\n",
    "client = DataFrameClient(host='localhost', port=8086)\n",
    "# switch to the databaase you want\n",
    "client.switch_database('bdx_batch_db')\n",
    "results_obj = client.query(\n",
    "    \"select * from alumni_data_v2\\\n",
    "    where time >= '2018-08-07 00:00:00' \\\n",
    "    and time < '2019-02-07 00:00:00'\" \n",
    ")\n",
    "df2 = results_obj['alumni_data_v2']\n",
    "df2.drop(columns=['aggregated','data_cleaned','time-interval'], inplace=True)"
   ]
  },
  {
   "cell_type": "markdown",
   "metadata": {
    "heading_collapsed": true
   },
   "source": [
    "## Create meta_data : Demo"
   ]
  },
  {
   "cell_type": "code",
   "execution_count": 1,
   "metadata": {
    "ExecuteTime": {
     "end_time": "2020-06-21T16:09:33.573019Z",
     "start_time": "2020-06-21T16:09:33.260632Z"
    },
    "hidden": true
   },
   "outputs": [],
   "source": [
    "# including the project directory to the notebook level\n",
    "import os\n",
    "import sys\n",
    "module_path = os.path.abspath(os.path.join('..'))\n",
    "if module_path not in sys.path:\n",
    "    sys.path.append(module_path)\n",
    "    \n",
    "# import modules\n",
    "import pandas as pd\n",
    "import json\n",
    "import numpy as np"
   ]
  },
  {
   "cell_type": "markdown",
   "metadata": {
    "hidden": true
   },
   "source": [
    "### Create column_aliases"
   ]
  },
  {
   "cell_type": "code",
   "execution_count": 2,
   "metadata": {
    "hidden": true
   },
   "outputs": [],
   "source": [
    "df = pd.read_csv('../data/raw_data/alumni_data_jul2dec2018.csv', index_col='time')\n",
    "\n",
    "d1 = {'column_names': list(df.columns)}\n",
    "column_aliases = [\n",
    "    'pchwst', 'vrf50', 'oat', 'sat', 'sat_stpt', 'oah', 'vrf67', 'pchw_flow',\n",
    "    'hwe', 'vrf1', 'vrf30', 'vrf34', 'vrf74', 'cwe', 'hws_st_stpt', 'vrf60',\n",
    "    'vrf63', 'hws_st', 'hws_vlv1', 'vrf77', 'vrf64', 'vrf10', 'ee', 'hws_rt',\n",
    "    'vrf100', 'vrf40', 'hws_flow', 'vrf108', 'vrf20'\n",
    "]\n",
    "\n",
    "d2 = {}\n",
    "for i, j in zip(df.columns, column_aliases):\n",
    "    d2.update({j:i})\n",
    "d1['column_aliases'] = d2"
   ]
  },
  {
   "cell_type": "markdown",
   "metadata": {
    "hidden": true
   },
   "source": [
    "### Create column stats"
   ]
  },
  {
   "cell_type": "code",
   "execution_count": 3,
   "metadata": {
    "hidden": true
   },
   "outputs": [],
   "source": [
    "stats = {}\n",
    "d3 = dict(df.describe())\n",
    "for key in d3.keys():\n",
    "    stats[key] = dict(d3[key])\n",
    "d1['column_stats'] = stats"
   ]
  },
  {
   "cell_type": "markdown",
   "metadata": {
    "hidden": true
   },
   "source": [
    "### Dump meta data"
   ]
  },
  {
   "cell_type": "code",
   "execution_count": 4,
   "metadata": {
    "hidden": true,
    "scrolled": false
   },
   "outputs": [],
   "source": [
    "with open('../alumni_scripts/meta_data.json', 'w') as fp:\n",
    "    json.dump(d1, fp, indent=4)"
   ]
  },
  {
   "cell_type": "markdown",
   "metadata": {
    "hidden": true
   },
   "source": [
    "### Read meta data"
   ]
  },
  {
   "cell_type": "code",
   "execution_count": 5,
   "metadata": {
    "hidden": true
   },
   "outputs": [],
   "source": [
    "with open('../alumni_scripts/meta_data.json', 'r') as fp:\n",
    "        meta_data_ = json.load(fp)\n",
    "meta_data = meta_data_.copy()\n",
    "for key, value in meta_data_['column_stats'].items():\n",
    "    if value['std'] == 0:\n",
    "        meta_data['column_stats'][key]['std'] = 0.0001  # add small std for constant values\n",
    "stats = pd.DataFrame(meta_data['column_stats'])"
   ]
  },
  {
   "cell_type": "markdown",
   "metadata": {
    "heading_collapsed": true
   },
   "source": [
    "## Plot data before and after cleaning: Demo"
   ]
  },
  {
   "cell_type": "code",
   "execution_count": 4,
   "metadata": {
    "ExecuteTime": {
     "end_time": "2020-06-27T21:24:58.464354Z",
     "start_time": "2020-06-27T21:24:58.457319Z"
    },
    "hidden": true
   },
   "outputs": [],
   "source": [
    "# including the project directory to the notebook level\n",
    "import os\n",
    "import sys\n",
    "module_path = os.path.abspath(os.path.join('..'))\n",
    "if module_path not in sys.path:\n",
    "    sys.path.append(module_path)\n",
    "    \n",
    "# import modules\n",
    "from alumni_scripts import data_process as dp\n",
    "from alumni_scripts import alumni_data_utils as a_utils\n",
    "import json\n",
    "import pandas as pd\n",
    "\n",
    "from collections import OrderedDict\n",
    "from CoolProp.HumidAirProp import HAPropsSI"
   ]
  },
  {
   "cell_type": "code",
   "execution_count": 5,
   "metadata": {
    "ExecuteTime": {
     "end_time": "2020-06-27T21:25:00.973908Z",
     "start_time": "2020-06-27T21:25:00.213527Z"
    },
    "hidden": true
   },
   "outputs": [],
   "source": [
    "# collate batch of data\n",
    "file_names = ['jul2dec2018', 'jan2jun2019', 'jul2dec2019', 'jan2jun2020']\n",
    "dflist = []\n",
    "for fname in file_names:\n",
    "    df_ = pd.read_csv('../data/raw_data/alumni_data_{}.csv'.format(fname))\n",
    "    df_['time'] = pd.to_datetime(df_['time'])\n",
    "    df_.set_index(keys='time',inplace=True, drop = True)\n",
    "    dflist.append(df_)\n",
    "df = a_utils.mergerows(dflist)"
   ]
  },
  {
   "cell_type": "code",
   "execution_count": 6,
   "metadata": {
    "ExecuteTime": {
     "end_time": "2020-06-27T21:25:07.126472Z",
     "start_time": "2020-06-27T21:25:07.115986Z"
    },
    "hidden": true
   },
   "outputs": [],
   "source": [
    "rh = df['WeatherDataProfile humidity']/100\n",
    "rh = rh.to_numpy()\n",
    "t_db = 5*(df['AHU_1 outdoorAirTemp']-32)/9 + 273.15\n",
    "t_db = t_db.to_numpy()"
   ]
  },
  {
   "cell_type": "code",
   "execution_count": 7,
   "metadata": {
    "ExecuteTime": {
     "end_time": "2020-06-27T21:41:31.154129Z",
     "start_time": "2020-06-27T21:25:12.798214Z"
    },
    "hidden": true
   },
   "outputs": [],
   "source": [
    "T = HAPropsSI('T_wb','R',rh,'T',t_db,'P',101325)\n",
    "t_f = 9*(T-273.15)/5 + 32\n",
    "df['wbt'] = t_f"
   ]
  },
  {
   "cell_type": "code",
   "execution_count": 8,
   "metadata": {
    "ExecuteTime": {
     "end_time": "2020-06-27T21:41:39.084300Z",
     "start_time": "2020-06-27T21:41:39.078568Z"
    },
    "hidden": true
   },
   "outputs": [],
   "source": [
    "column_aliases = [\n",
    "    'pchwst', 'vrf50', 'oat', 'sat', 'sat_stpt', 'oah', 'vrf67', 'pchw_flow',\n",
    "    'hwe', 'vrf1', 'vrf30', 'vrf34', 'vrf74', 'cwe', 'hws_st_stpt', 'vrf60',\n",
    "    'vrf63', 'hws_st', 'hws_vlv1', 'vrf77', 'vrf64', 'vrf10', 'ee', 'hws_rt',\n",
    "    'vrf100', 'vrf40', 'hws_flow', 'vrf108', 'vrf20', 'wbt'\n",
    "]\n"
   ]
  },
  {
   "cell_type": "code",
   "execution_count": 10,
   "metadata": {
    "ExecuteTime": {
     "end_time": "2020-06-27T21:42:02.128280Z",
     "start_time": "2020-06-27T21:42:02.123146Z"
    },
    "hidden": true
   },
   "outputs": [],
   "source": [
    "df.columns = column_aliases"
   ]
  },
  {
   "cell_type": "code",
   "execution_count": 12,
   "metadata": {
    "ExecuteTime": {
     "end_time": "2020-06-27T21:45:00.901390Z",
     "start_time": "2020-06-27T21:45:00.708715Z"
    },
    "hidden": true
   },
   "outputs": [],
   "source": [
    "with open('../alumni_scripts/meta_data.json', 'r') as fp:\n",
    "        meta_data_ = json.load(fp)\n",
    "df_cleaned1 = dp.offline_batch_data_clean(meta_data_=meta_data_, df = df)"
   ]
  },
  {
   "cell_type": "code",
   "execution_count": 40,
   "metadata": {
    "ExecuteTime": {
     "end_time": "2020-06-27T22:07:24.569559Z",
     "start_time": "2020-06-27T22:07:24.337523Z"
    },
    "hidden": true,
    "scrolled": false
   },
   "outputs": [],
   "source": [
    "stats = {}\n",
    "d2 = dict(df_cleaned1.describe())\n",
    "for key in d2.keys():\n",
    "    stats[key] = dict(d2[key])\n",
    "d1 ={'column_stats' : stats}"
   ]
  },
  {
   "cell_type": "code",
   "execution_count": 41,
   "metadata": {
    "ExecuteTime": {
     "end_time": "2020-06-27T22:07:28.273294Z",
     "start_time": "2020-06-27T22:07:27.996903Z"
    },
    "hidden": true
   },
   "outputs": [],
   "source": [
    "d3 = {'column_agg_type':\n",
    "    {\"pchwst\": \"mean\",\"vrf50\": \"mean\",\"oat\": \"mean\",\"sat\": \"mean\",\"sat_stpt\": \"mean\",\"oah\": \"mean\",\n",
    "    \"vrf67\": \"mean\",\"pchw_flow\": \"sum\",\"hwe\": \"sum\",\"vrf1\": \"mean\",\"vrf30\": \"mean\",\"vrf34\": \"mean\",\n",
    "    \"vrf74\": \"mean\",\"cwe\": \"sum\",\"hws_st_stpt\": \"mean\",\"vrf60\": \"mean\",\"vrf63\": \"mean\",\"hws_st\": \"mean\",\n",
    "    \"hws_vlv1\": \"sum\",\"vrf77\": \"mean\", \"vrf64\": \"mean\",\"vrf10\": \"mean\",\"ee\": \"sum\",\"hws_rt\": \"mean\",\n",
    "    \"vrf100\": \"mean\",\"vrf40\": \"mean\",\"hws_flow\": \"sum\",\"vrf108\": \"mean\",\"vrf20\": \"mean\", 'wbt' : \"mean\"\n",
    "}}\n",
    "\n",
    "# aggregate data\n",
    "rolling_sum_target, rolling_mean_target = [], []\n",
    "for key, value in d3['column_agg_type'].items():\n",
    "    if value == 'sum': rolling_sum_target.append(key)\n",
    "    else: rolling_mean_target.append(key)\n",
    "\n",
    "df_agg = df_cleaned1.copy()\n",
    "        \n",
    "df_agg[rolling_sum_target] =  a_utils.window_sum(df_agg, window_size=6, column_names=rolling_sum_target)\n",
    "df_agg[rolling_mean_target] =  a_utils.window_mean(df_agg, window_size=6, column_names=rolling_mean_target)\n",
    "df_agg = a_utils.dropNaNrows(df_agg)\n",
    "# sample at half hour\n",
    "df_agg = a_utils.sample_timeseries_df(df_agg, period=6)\n",
    "\n",
    "# Create column stats for half hour data\n",
    "stats_halfhour = {}\n",
    "d4 = OrderedDict(df_agg.describe())\n",
    "for key, alias in zip(d4.keys(),column_aliases):\n",
    "    stats_halfhour[alias] = dict(d4[key])\n",
    "d1['column_stats_half_hour'] = stats_halfhour\n",
    "\n"
   ]
  },
  {
   "cell_type": "code",
   "execution_count": 43,
   "metadata": {
    "ExecuteTime": {
     "end_time": "2020-06-27T22:07:59.003757Z",
     "start_time": "2020-06-27T22:07:58.994792Z"
    },
    "hidden": true
   },
   "outputs": [],
   "source": [
    "with open('../alumni_scripts/meta_data1.json', 'w') as fp:\n",
    "    json.dump(d1, fp, indent=4)"
   ]
  },
  {
   "cell_type": "code",
   "execution_count": null,
   "metadata": {
    "hidden": true
   },
   "outputs": [],
   "source": []
  },
  {
   "cell_type": "code",
   "execution_count": null,
   "metadata": {
    "hidden": true,
    "scrolled": false
   },
   "outputs": [],
   "source": [
    "for col_name in df.columns:\n",
    "    utils.dataframeplot(df[[col_name]],lazy=False,legend=True)\n",
    "    utils.dataframeplot(df_cleaned[[col_name]],lazy=False,legend=True)"
   ]
  },
  {
   "cell_type": "markdown",
   "metadata": {
    "heading_collapsed": true,
    "scrolled": false
   },
   "source": [
    "## Create Time Series Data Base: Demo only"
   ]
  },
  {
   "cell_type": "code",
   "execution_count": 1,
   "metadata": {
    "ExecuteTime": {
     "end_time": "2020-06-19T20:24:14.854873Z",
     "start_time": "2020-06-19T20:24:13.316916Z"
    },
    "hidden": true
   },
   "outputs": [],
   "source": [
    "# including the project directory to the notebook level\n",
    "import os\n",
    "import sys\n",
    "module_path = os.path.abspath(os.path.join('..'))\n",
    "if module_path not in sys.path:\n",
    "    sys.path.append(module_path)\n",
    "    \n",
    "# import modules\n",
    "from alumni_scripts import data_process as dp\n",
    "from alumni_scripts import alumni_data_utils as utils\n",
    "import json\n",
    "import pandas as pd\n",
    "from influxdb import DataFrameClient"
   ]
  },
  {
   "cell_type": "code",
   "execution_count": 2,
   "metadata": {
    "hidden": true
   },
   "outputs": [],
   "source": [
    "df = pd.read_csv('../data/raw_data/alumni_data_jul2dec2018.csv',)\n",
    "df['time'] = pd.to_datetime(df['time'])\n",
    "df.set_index(keys='time',inplace=True, drop = True)\n",
    "df_cleaned = dp.offline_batch_data_clean(meta_data_path='../alumni_scripts/meta_data.json', df = df)"
   ]
  },
  {
   "cell_type": "code",
   "execution_count": 3,
   "metadata": {
    "hidden": true
   },
   "outputs": [],
   "source": [
    "\"\"\"\n",
    "before the next steps launch influxd client at a cli\n",
    "sudo influxd\n",
    "\"\"\"\n",
    "# launch python client for influxdb\n",
    "client = DataFrameClient(host='localhost', port=8086)\n",
    "# create a database inc case it's not there\n",
    "client.create_database('demo_alumni')\n",
    "# get list of database\n",
    "client.get_list_database()\n",
    "# switch to the databaase you want\n",
    "client.switch_database('demo_alumni')\n",
    "# write \"dataframe\" as \"measurements\"\n",
    "client.write_points(dataframe=df_cleaned, measurement='alumni_jul2dec2018', protocol='line', batch_size=5000)\n",
    "# see measurement added to curent db\n",
    "client.get_list_measurements()"
   ]
  },
  {
   "cell_type": "code",
   "execution_count": 8,
   "metadata": {
    "hidden": true
   },
   "outputs": [
    {
     "data": {
      "text/html": [
       "<div>\n",
       "<style scoped>\n",
       "    .dataframe tbody tr th:only-of-type {\n",
       "        vertical-align: middle;\n",
       "    }\n",
       "\n",
       "    .dataframe tbody tr th {\n",
       "        vertical-align: top;\n",
       "    }\n",
       "\n",
       "    .dataframe thead th {\n",
       "        text-align: right;\n",
       "    }\n",
       "</style>\n",
       "<table border=\"1\" class=\"dataframe\">\n",
       "  <thead>\n",
       "    <tr style=\"text-align: right;\">\n",
       "      <th></th>\n",
       "      <th>AHU_1 outdoorAirTemp</th>\n",
       "      <th>AHU_1 supplyAirTemp</th>\n",
       "      <th>AHU_1 supplyAirTempSetpoint</th>\n",
       "      <th>Alumni_Hall_PCHWS_T value</th>\n",
       "      <th>Alumni_Hall_PCHW_Flow value</th>\n",
       "      <th>CAFE_103_Indoor_Unit_50 localSetpoint</th>\n",
       "      <th>CHW_BTU_METER currentKbtuDeltaReading</th>\n",
       "      <th>CLASS_ROOM_201_Indoor_Unit_100 localSetpoint</th>\n",
       "      <th>COORIDOR_006A_Indoor_Unit_34 localSetpoint</th>\n",
       "      <th>CORRIDOR_108_Indoor_Unit_60 localSetpoint</th>\n",
       "      <th>...</th>\n",
       "      <th>Hot_Water_Flow_AI_2 value</th>\n",
       "      <th>LOUNGE_100_Indoor_Unit_40 localSetpoint</th>\n",
       "      <th>MEETING_117A_Indoor_Unit_63 localSetpoint</th>\n",
       "      <th>MEMORIAL_HALL_202_Indoor_Unit_67 localSetpoint</th>\n",
       "      <th>OFFICE_115_Indoor_Unit_77 localSetpoint</th>\n",
       "      <th>OFFICE_305_Indoor_Unit_74 localSetpoint</th>\n",
       "      <th>READING_ROOM_206_Indoor_Unit_108 localSetpoint</th>\n",
       "      <th>TUTORING_010_Indoor_Unit_10 localSetpoint</th>\n",
       "      <th>WRITING_STUDIO_113_Indoor_Unit_20 localSetpoint</th>\n",
       "      <th>WeatherDataProfile humidity</th>\n",
       "    </tr>\n",
       "  </thead>\n",
       "  <tbody>\n",
       "    <tr>\n",
       "      <th>2018-11-15 12:00:00+00:00</th>\n",
       "      <td>33.107929</td>\n",
       "      <td>70.612915</td>\n",
       "      <td>73.0</td>\n",
       "      <td>42.969219</td>\n",
       "      <td>-0.047234</td>\n",
       "      <td>72.0</td>\n",
       "      <td>0.0</td>\n",
       "      <td>72.0</td>\n",
       "      <td>72.0</td>\n",
       "      <td>72.0</td>\n",
       "      <td>...</td>\n",
       "      <td>28.971073</td>\n",
       "      <td>72.0</td>\n",
       "      <td>72.0</td>\n",
       "      <td>72.0</td>\n",
       "      <td>75.0</td>\n",
       "      <td>72.0</td>\n",
       "      <td>72.0</td>\n",
       "      <td>72.0</td>\n",
       "      <td>72.0</td>\n",
       "      <td>85.0</td>\n",
       "    </tr>\n",
       "  </tbody>\n",
       "</table>\n",
       "<p>1 rows × 29 columns</p>\n",
       "</div>"
      ],
      "text/plain": [
       "                           AHU_1 outdoorAirTemp  AHU_1 supplyAirTemp  \\\n",
       "2018-11-15 12:00:00+00:00             33.107929            70.612915   \n",
       "\n",
       "                           AHU_1 supplyAirTempSetpoint  \\\n",
       "2018-11-15 12:00:00+00:00                         73.0   \n",
       "\n",
       "                           Alumni_Hall_PCHWS_T value  \\\n",
       "2018-11-15 12:00:00+00:00                  42.969219   \n",
       "\n",
       "                           Alumni_Hall_PCHW_Flow value  \\\n",
       "2018-11-15 12:00:00+00:00                    -0.047234   \n",
       "\n",
       "                           CAFE_103_Indoor_Unit_50 localSetpoint  \\\n",
       "2018-11-15 12:00:00+00:00                                   72.0   \n",
       "\n",
       "                           CHW_BTU_METER currentKbtuDeltaReading  \\\n",
       "2018-11-15 12:00:00+00:00                                    0.0   \n",
       "\n",
       "                           CLASS_ROOM_201_Indoor_Unit_100 localSetpoint  \\\n",
       "2018-11-15 12:00:00+00:00                                          72.0   \n",
       "\n",
       "                           COORIDOR_006A_Indoor_Unit_34 localSetpoint  \\\n",
       "2018-11-15 12:00:00+00:00                                        72.0   \n",
       "\n",
       "                           CORRIDOR_108_Indoor_Unit_60 localSetpoint  ...  \\\n",
       "2018-11-15 12:00:00+00:00                                       72.0  ...   \n",
       "\n",
       "                           Hot_Water_Flow_AI_2 value  \\\n",
       "2018-11-15 12:00:00+00:00                  28.971073   \n",
       "\n",
       "                           LOUNGE_100_Indoor_Unit_40 localSetpoint  \\\n",
       "2018-11-15 12:00:00+00:00                                     72.0   \n",
       "\n",
       "                           MEETING_117A_Indoor_Unit_63 localSetpoint  \\\n",
       "2018-11-15 12:00:00+00:00                                       72.0   \n",
       "\n",
       "                           MEMORIAL_HALL_202_Indoor_Unit_67 localSetpoint  \\\n",
       "2018-11-15 12:00:00+00:00                                            72.0   \n",
       "\n",
       "                           OFFICE_115_Indoor_Unit_77 localSetpoint  \\\n",
       "2018-11-15 12:00:00+00:00                                     75.0   \n",
       "\n",
       "                           OFFICE_305_Indoor_Unit_74 localSetpoint  \\\n",
       "2018-11-15 12:00:00+00:00                                     72.0   \n",
       "\n",
       "                           READING_ROOM_206_Indoor_Unit_108 localSetpoint  \\\n",
       "2018-11-15 12:00:00+00:00                                            72.0   \n",
       "\n",
       "                           TUTORING_010_Indoor_Unit_10 localSetpoint  \\\n",
       "2018-11-15 12:00:00+00:00                                       72.0   \n",
       "\n",
       "                           WRITING_STUDIO_113_Indoor_Unit_20 localSetpoint  \\\n",
       "2018-11-15 12:00:00+00:00                                             72.0   \n",
       "\n",
       "                           WeatherDataProfile humidity  \n",
       "2018-11-15 12:00:00+00:00                         85.0  \n",
       "\n",
       "[1 rows x 29 columns]"
      ]
     },
     "execution_count": 8,
     "metadata": {},
     "output_type": "execute_result"
    }
   ],
   "source": [
    "results_obj = client.query(\n",
    "    \"select * from alumni_jul2dec2018 where time >= '2018-11-15 12:00:00' and time < '2018-11-15 12:05:00'\"\n",
    ")\n",
    "df2 = results_obj['alumni_jul2dec2018']\n",
    "df2"
   ]
  },
  {
   "cell_type": "code",
   "execution_count": 10,
   "metadata": {
    "hidden": true,
    "run_control": {
     "marked": false
    }
   },
   "outputs": [
    {
     "data": {
      "text/html": [
       "<div>\n",
       "<style scoped>\n",
       "    .dataframe tbody tr th:only-of-type {\n",
       "        vertical-align: middle;\n",
       "    }\n",
       "\n",
       "    .dataframe tbody tr th {\n",
       "        vertical-align: top;\n",
       "    }\n",
       "\n",
       "    .dataframe thead th {\n",
       "        text-align: right;\n",
       "    }\n",
       "</style>\n",
       "<table border=\"1\" class=\"dataframe\">\n",
       "  <thead>\n",
       "    <tr style=\"text-align: right;\">\n",
       "      <th></th>\n",
       "      <th>AHU_1 outdoorAirTemp</th>\n",
       "      <th>AHU_1 supplyAirTemp</th>\n",
       "      <th>AHU_1 supplyAirTempSetpoint</th>\n",
       "      <th>Alumni_Hall_PCHWS_T value</th>\n",
       "      <th>Alumni_Hall_PCHW_Flow value</th>\n",
       "      <th>CAFE_103_Indoor_Unit_50 localSetpoint</th>\n",
       "      <th>CHW_BTU_METER currentKbtuDeltaReading</th>\n",
       "      <th>CLASS_ROOM_201_Indoor_Unit_100 localSetpoint</th>\n",
       "      <th>COORIDOR_006A_Indoor_Unit_34 localSetpoint</th>\n",
       "      <th>CORRIDOR_108_Indoor_Unit_60 localSetpoint</th>\n",
       "      <th>...</th>\n",
       "      <th>Hot_Water_Flow_AI_2 value</th>\n",
       "      <th>LOUNGE_100_Indoor_Unit_40 localSetpoint</th>\n",
       "      <th>MEETING_117A_Indoor_Unit_63 localSetpoint</th>\n",
       "      <th>MEMORIAL_HALL_202_Indoor_Unit_67 localSetpoint</th>\n",
       "      <th>OFFICE_115_Indoor_Unit_77 localSetpoint</th>\n",
       "      <th>OFFICE_305_Indoor_Unit_74 localSetpoint</th>\n",
       "      <th>READING_ROOM_206_Indoor_Unit_108 localSetpoint</th>\n",
       "      <th>TUTORING_010_Indoor_Unit_10 localSetpoint</th>\n",
       "      <th>WRITING_STUDIO_113_Indoor_Unit_20 localSetpoint</th>\n",
       "      <th>WeatherDataProfile humidity</th>\n",
       "    </tr>\n",
       "  </thead>\n",
       "  <tbody>\n",
       "    <tr>\n",
       "      <th>2018-11-15 12:00:00+00:00</th>\n",
       "      <td>33.107929</td>\n",
       "      <td>70.612915</td>\n",
       "      <td>73.0</td>\n",
       "      <td>42.969219</td>\n",
       "      <td>-0.047234</td>\n",
       "      <td>72.0</td>\n",
       "      <td>0.0</td>\n",
       "      <td>72.0</td>\n",
       "      <td>72.0</td>\n",
       "      <td>72.0</td>\n",
       "      <td>...</td>\n",
       "      <td>28.971073</td>\n",
       "      <td>72.0</td>\n",
       "      <td>72.0</td>\n",
       "      <td>72.0</td>\n",
       "      <td>75.0</td>\n",
       "      <td>72.0</td>\n",
       "      <td>72.0</td>\n",
       "      <td>72.0</td>\n",
       "      <td>72.0</td>\n",
       "      <td>85.0</td>\n",
       "    </tr>\n",
       "  </tbody>\n",
       "</table>\n",
       "<p>1 rows × 29 columns</p>\n",
       "</div>"
      ],
      "text/plain": [
       "                           AHU_1 outdoorAirTemp  AHU_1 supplyAirTemp  \\\n",
       "2018-11-15 12:00:00+00:00             33.107929            70.612915   \n",
       "\n",
       "                           AHU_1 supplyAirTempSetpoint  \\\n",
       "2018-11-15 12:00:00+00:00                         73.0   \n",
       "\n",
       "                           Alumni_Hall_PCHWS_T value  \\\n",
       "2018-11-15 12:00:00+00:00                  42.969219   \n",
       "\n",
       "                           Alumni_Hall_PCHW_Flow value  \\\n",
       "2018-11-15 12:00:00+00:00                    -0.047234   \n",
       "\n",
       "                           CAFE_103_Indoor_Unit_50 localSetpoint  \\\n",
       "2018-11-15 12:00:00+00:00                                   72.0   \n",
       "\n",
       "                           CHW_BTU_METER currentKbtuDeltaReading  \\\n",
       "2018-11-15 12:00:00+00:00                                    0.0   \n",
       "\n",
       "                           CLASS_ROOM_201_Indoor_Unit_100 localSetpoint  \\\n",
       "2018-11-15 12:00:00+00:00                                          72.0   \n",
       "\n",
       "                           COORIDOR_006A_Indoor_Unit_34 localSetpoint  \\\n",
       "2018-11-15 12:00:00+00:00                                        72.0   \n",
       "\n",
       "                           CORRIDOR_108_Indoor_Unit_60 localSetpoint  ...  \\\n",
       "2018-11-15 12:00:00+00:00                                       72.0  ...   \n",
       "\n",
       "                           Hot_Water_Flow_AI_2 value  \\\n",
       "2018-11-15 12:00:00+00:00                  28.971073   \n",
       "\n",
       "                           LOUNGE_100_Indoor_Unit_40 localSetpoint  \\\n",
       "2018-11-15 12:00:00+00:00                                     72.0   \n",
       "\n",
       "                           MEETING_117A_Indoor_Unit_63 localSetpoint  \\\n",
       "2018-11-15 12:00:00+00:00                                       72.0   \n",
       "\n",
       "                           MEMORIAL_HALL_202_Indoor_Unit_67 localSetpoint  \\\n",
       "2018-11-15 12:00:00+00:00                                            72.0   \n",
       "\n",
       "                           OFFICE_115_Indoor_Unit_77 localSetpoint  \\\n",
       "2018-11-15 12:00:00+00:00                                     75.0   \n",
       "\n",
       "                           OFFICE_305_Indoor_Unit_74 localSetpoint  \\\n",
       "2018-11-15 12:00:00+00:00                                     72.0   \n",
       "\n",
       "                           READING_ROOM_206_Indoor_Unit_108 localSetpoint  \\\n",
       "2018-11-15 12:00:00+00:00                                            72.0   \n",
       "\n",
       "                           TUTORING_010_Indoor_Unit_10 localSetpoint  \\\n",
       "2018-11-15 12:00:00+00:00                                       72.0   \n",
       "\n",
       "                           WRITING_STUDIO_113_Indoor_Unit_20 localSetpoint  \\\n",
       "2018-11-15 12:00:00+00:00                                             72.0   \n",
       "\n",
       "                           WeatherDataProfile humidity  \n",
       "2018-11-15 12:00:00+00:00                         85.0  \n",
       "\n",
       "[1 rows x 29 columns]"
      ]
     },
     "execution_count": 10,
     "metadata": {},
     "output_type": "execute_result"
    }
   ],
   "source": [
    "results_obj2 = client.query(\n",
    "    \"select * from alumni_jul2dec2018 where time = '2018-11-15 12:00:00'\"\n",
    ")\n",
    "df3 = results_obj2['alumni_jul2dec2018']\n",
    "df3"
   ]
  },
  {
   "cell_type": "code",
   "execution_count": 11,
   "metadata": {
    "hidden": true
   },
   "outputs": [
    {
     "data": {
      "text/plain": [
       "[{'name': '_internal'}]"
      ]
     },
     "execution_count": 11,
     "metadata": {},
     "output_type": "execute_result"
    }
   ],
   "source": [
    "# drop the database after the demo\n",
    "client.drop_database('demo_alumni')\n",
    "client.get_list_database()"
   ]
  },
  {
   "cell_type": "code",
   "execution_count": 12,
   "metadata": {
    "hidden": true
   },
   "outputs": [],
   "source": [
    "# close client\n",
    "client.close()"
   ]
  },
  {
   "cell_type": "markdown",
   "metadata": {
    "heading_collapsed": true
   },
   "source": [
    "## Code cemetery"
   ]
  },
  {
   "cell_type": "code",
   "execution_count": 6,
   "metadata": {
    "ExecuteTime": {
     "end_time": "2020-06-20T22:22:24.658879Z",
     "start_time": "2020-06-20T22:22:24.649558Z"
    },
    "hidden": true
   },
   "outputs": [
    {
     "name": "stdout",
     "output_type": "stream",
     "text": [
      "2018-11-15 13:12:00\n",
      "2018-11-15 13:12:00\n"
     ]
    },
    {
     "data": {
      "text/plain": [
       "False"
      ]
     },
     "execution_count": 6,
     "metadata": {},
     "output_type": "execute_result"
    }
   ],
   "source": [
    "time_str = '2018-11-15 13:12:00'\n",
    "from datetime import datetime, timedelta\n",
    "time_now = datetime.strptime(time_str, '%Y-%m-%d %H:%M:%S')\n",
    "print(time_now)\n",
    "time_now_str = str(time_now)\n",
    "print(time_now_str)\n",
    "time_now ==time_now_str"
   ]
  },
  {
   "cell_type": "code",
   "execution_count": 4,
   "metadata": {
    "ExecuteTime": {
     "end_time": "2020-06-21T16:17:03.354684Z",
     "start_time": "2020-06-21T16:17:03.349072Z"
    },
    "hidden": true
   },
   "outputs": [],
   "source": [
    "with open('../alumni_scripts/meta_data.json', 'r') as fp:\n",
    "        meta_data_ = json.load(fp)\n",
    "meta_data_['column_agg_type']['pchwst']"
   ]
  },
  {
   "cell_type": "code",
   "execution_count": 7,
   "metadata": {
    "ExecuteTime": {
     "end_time": "2020-06-20T18:09:27.277220Z",
     "start_time": "2020-06-20T18:09:27.271113Z"
    },
    "hidden": true
   },
   "outputs": [
    {
     "data": {
      "text/plain": [
       "dict_values(['mean', 'mean', 'mean', 'mean', 'mean', 'mean', 'mean', 'sum', 'sum', 'mean', 'mean', 'mean', 'mean', 'sum', 'mean', 'mean', 'mean', 'mean', 'sum', 'mean', 'mean', 'mean', 'sum', 'mean', 'mean', 'mean', 'sum', 'mean', 'mean'])"
      ]
     },
     "execution_count": 7,
     "metadata": {},
     "output_type": "execute_result"
    }
   ],
   "source": [
    "meta_data_['column_agg_type'].values()"
   ]
  },
  {
   "cell_type": "code",
   "execution_count": 9,
   "metadata": {
    "ExecuteTime": {
     "end_time": "2020-06-20T18:15:04.955338Z",
     "start_time": "2020-06-20T18:15:04.949929Z"
    },
    "hidden": true
   },
   "outputs": [],
   "source": [
    "rolling_sum_target = []\n",
    "rolling_mean_target = []\n",
    "for key, value in meta_data_['column_agg_type'].items():\n",
    "    if value == 'sum': rolling_sum_target.append(key)\n",
    "    else: rolling_mean_target.append(key)"
   ]
  },
  {
   "cell_type": "code",
   "execution_count": 11,
   "metadata": {
    "ExecuteTime": {
     "end_time": "2020-06-20T18:16:14.744650Z",
     "start_time": "2020-06-20T18:16:14.738769Z"
    },
    "hidden": true
   },
   "outputs": [
    {
     "data": {
      "text/plain": [
       "['pchw_flow', 'hwe', 'cwe', 'hws_vlv1', 'ee', 'hws_flow']"
      ]
     },
     "execution_count": 11,
     "metadata": {},
     "output_type": "execute_result"
    }
   ],
   "source": [
    "rolling_sum_target"
   ]
  },
  {
   "cell_type": "code",
   "execution_count": null,
   "metadata": {
    "hidden": true
   },
   "outputs": [],
   "source": [
    "q = {'c': '11', 'b' : ['1f3','a']}\n",
    "with open('../logs/cwe_test_info.txt', 'a') as ifile:\n",
    "        ifile.write(json.dumps(q)+'\\n',)      \n",
    "with open('../logs/cwe_test_info.txt') as f:\n",
    "    for line in f:\n",
    "        document = json.loads(line)\n",
    "        print(document)"
   ]
  }
 ],
 "metadata": {
  "kernelspec": {
   "display_name": "Python 3.6.9 64-bit ('sbvenv1': venv)",
   "language": "python",
   "name": "python36964bitsbvenv1venvf8f19bb32ed941ad82d727bac6ccbb65"
  },
  "language_info": {
   "codemirror_mode": {
    "name": "ipython",
    "version": 3
   },
   "file_extension": ".py",
   "mimetype": "text/x-python",
   "name": "python",
   "nbconvert_exporter": "python",
   "pygments_lexer": "ipython3",
   "version": "3.6.9"
  },
  "toc": {
   "base_numbering": 1,
   "nav_menu": {},
   "number_sections": true,
   "sideBar": true,
   "skip_h1_title": false,
   "title_cell": "Table of Contents",
   "title_sidebar": "Contents",
   "toc_cell": false,
   "toc_position": {
    "height": "calc(100% - 180px)",
    "left": "10px",
    "top": "150px",
    "width": "277px"
   },
   "toc_section_display": true,
   "toc_window_display": true
  }
 },
 "nbformat": 4,
 "nbformat_minor": 4
}
