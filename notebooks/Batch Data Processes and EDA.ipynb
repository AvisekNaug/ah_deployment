{
 "cells": [
  {
   "cell_type": "markdown",
   "metadata": {
    "heading_collapsed": true
   },
   "source": [
    "## Data Collection"
   ]
  },
  {
   "cell_type": "code",
   "execution_count": 1,
   "metadata": {
    "hidden": true
   },
   "outputs": [],
   "source": [
    "# including the project directory to the notebook level\n",
    "import os\n",
    "import sys\n",
    "module_path = os.path.abspath(os.path.join('..'))\n",
    "if module_path not in sys.path:\n",
    "    sys.path.append(module_path)\n",
    "    \n",
    "# import modules\n",
    "from alumni_scripts import data_process as dp\n",
    "import json"
   ]
  },
  {
   "cell_type": "code",
   "execution_count": null,
   "metadata": {
    "hidden": true
   },
   "outputs": [],
   "source": [
    "# run a single update of the data pull\n",
    "with open('../auths.json', 'r') as fp:\n",
    "    api_args = json.load(fp)\n",
    "\n",
    "time_args = {\n",
    "    'start_year': 2018,'start_month': 8,'start_day': 1,'start_hour': 0,'start_minute': 0,'start_second': 0,\n",
    "    'end_year': 2018,'end_month': 8,'end_day': 1,'end_hour': 0,'end_minute': 30,'end_second': 0,\n",
    "    'trend_id': '2681',\n",
    "    'save_path':'../data/raw_data/alumni_data.csv'\n",
    "}\n",
    "api_args.update(time_args)\n",
    "\n",
    "dp.pull_offline_data(**api_args)"
   ]
  },
  {
   "cell_type": "code",
   "execution_count": 2,
   "metadata": {
    "hidden": true,
    "run_control": {
     "marked": false
    }
   },
   "outputs": [
    {
     "name": "stdout",
     "output_type": "stream",
     "text": [
      "Success!\n",
      "Success!\n",
      "Success!\n",
      "Success!\n"
     ]
    }
   ],
   "source": [
    "# download data in a loop\n",
    "time_args = [\n",
    "    {\n",
    "    'start_year': 2018,'start_month': 7,'start_day': 1,'start_hour': 0,'start_minute': 0,'start_second': 0,\n",
    "    'end_year': 2018,'end_month': 12,'end_day': 31,'end_hour': 23,'end_minute': 59,'end_second': 59,\n",
    "    'trend_id': '2681',\n",
    "    'save_path':'../data/raw_data/alumni_data_jul2dec2018.csv'\n",
    "    },\n",
    "    {\n",
    "    'start_year': 2019,'start_month': 1,'start_day': 1,'start_hour': 0,'start_minute': 0,'start_second': 0,\n",
    "    'end_year': 2019,'end_month': 6,'end_day': 30,'end_hour': 23,'end_minute': 59,'end_second': 59,\n",
    "    'trend_id': '2681',\n",
    "    'save_path':'../data/raw_data/alumni_data_jan2jun2019.csv'  \n",
    "    },\n",
    "    {\n",
    "    'start_year': 2019,'start_month': 7,'start_day': 1,'start_hour': 0,'start_minute': 0,'start_second': 0,\n",
    "    'end_year': 2019,'end_month': 12,'end_day': 31,'end_hour': 23,'end_minute': 59,'end_second': 59,\n",
    "    'trend_id': '2681',\n",
    "    'save_path':'../data/raw_data/alumni_data_jul2dec2019.csv'  \n",
    "    },\n",
    "    {\n",
    "    'start_year': 2020,'start_month': 1,'start_day': 1,'start_hour': 0,'start_minute': 0,'start_second': 0,\n",
    "    'end_year': 2020,'end_month': 6,'end_day': 15,'end_hour': 23,'end_minute': 59,'end_second': 59,\n",
    "    'trend_id': '2681',\n",
    "    'save_path':'../data/raw_data/alumni_data_jan2jun2020.csv'  \n",
    "    }\n",
    "]\n",
    "for i in time_args:\n",
    "    with open('../auths.json', 'r') as fp:\n",
    "        api_args = json.load(fp)\n",
    "    api_args.update(i)\n",
    "    dp.pull_offline_data(**api_args)\n",
    "    print(\"Success!\")"
   ]
  },
  {
   "cell_type": "markdown",
   "metadata": {
    "heading_collapsed": true
   },
   "source": [
    "## Create Offline Batch Time Series Data Base for Alumni Hall data"
   ]
  },
  {
   "cell_type": "code",
   "execution_count": 12,
   "metadata": {
    "hidden": true
   },
   "outputs": [],
   "source": [
    "# close client\n",
    "client.close()"
   ]
  },
  {
   "cell_type": "code",
   "execution_count": 1,
   "metadata": {
    "ExecuteTime": {
     "end_time": "2020-06-19T20:51:30.794052Z",
     "start_time": "2020-06-19T20:51:29.426379Z"
    },
    "hidden": true
   },
   "outputs": [],
   "source": [
    "# including the project directory to the notebook level\n",
    "import os\n",
    "import sys\n",
    "module_path = os.path.abspath(os.path.join('..'))\n",
    "if module_path not in sys.path:\n",
    "    sys.path.append(module_path)\n",
    "    \n",
    "# import modules\n",
    "from alumni_scripts import data_process as dp\n",
    "from alumni_scripts import alumni_data_utils as utils\n",
    "import json\n",
    "import pandas as pd\n",
    "from influxdb import DataFrameClient"
   ]
  },
  {
   "cell_type": "markdown",
   "metadata": {
    "hidden": true
   },
   "source": [
    "### Collate the data"
   ]
  },
  {
   "cell_type": "code",
   "execution_count": 2,
   "metadata": {
    "ExecuteTime": {
     "end_time": "2020-06-19T20:51:35.928486Z",
     "start_time": "2020-06-19T20:51:35.192571Z"
    },
    "hidden": true
   },
   "outputs": [],
   "source": [
    "# collate batch of data\n",
    "file_names = ['jul2dec2018', 'jan2jun2019', 'jul2dec2019', 'jan2jun2020']\n",
    "dflist = []\n",
    "for fname in file_names:\n",
    "    df_ = pd.read_csv('../data/raw_data/alumni_data_{}.csv'.format(fname))\n",
    "    df_['time'] = pd.to_datetime(df_['time'])\n",
    "    df_.set_index(keys='time',inplace=True, drop = True)\n",
    "    dflist.append(df_)\n",
    "df = utils.mergerows(dflist)"
   ]
  },
  {
   "cell_type": "markdown",
   "metadata": {
    "hidden": true
   },
   "source": [
    "### Create meta data"
   ]
  },
  {
   "cell_type": "code",
   "execution_count": 3,
   "metadata": {
    "ExecuteTime": {
     "end_time": "2020-06-19T20:51:49.167027Z",
     "start_time": "2020-06-19T20:51:48.940118Z"
    },
    "hidden": true,
    "run_control": {
     "marked": false
    }
   },
   "outputs": [],
   "source": [
    "# Create column_aliases\n",
    "d1 = {'column_names': list(df.columns)}\n",
    "column_aliases = [\n",
    "    'pchwst', 'vrf50', 'oat', 'sat', 'sat_stpt', 'oah', 'vrf67', 'pchw_flow',\n",
    "    'hwe', 'vrf1', 'vrf30', 'vrf34', 'vrf74', 'cwe', 'hws_st_stpt', 'vrf60',\n",
    "    'vrf63', 'hws_st', 'hws_vlv1', 'vrf77', 'vrf64', 'vrf10', 'ee', 'hws_rt',\n",
    "    'vrf100', 'vrf40', 'hws_flow', 'vrf108', 'vrf20'\n",
    "]\n",
    "\n",
    "# Create column stats\n",
    "d2 = {}\n",
    "for i, j in zip(df.columns, column_aliases):\n",
    "    d2.update({j:i})\n",
    "d1['column_aliases'] = d2\n",
    "stats = {}\n",
    "d3 = dict(df.describe())\n",
    "for key in d3.keys():\n",
    "    stats[key] = dict(d3[key])\n",
    "d1['column_stats'] = stats\n",
    "\n",
    "# Create meta data json file\n",
    "with open('../alumni_scripts/meta_data.json', 'w') as fp:\n",
    "    json.dump(d1, fp, indent=4)"
   ]
  },
  {
   "cell_type": "markdown",
   "metadata": {
    "hidden": true
   },
   "source": [
    "### Remove outliers"
   ]
  },
  {
   "cell_type": "code",
   "execution_count": 4,
   "metadata": {
    "ExecuteTime": {
     "end_time": "2020-06-19T20:51:54.613875Z",
     "start_time": "2020-06-19T20:51:54.457335Z"
    },
    "hidden": true
   },
   "outputs": [],
   "source": [
    "df_cleaned = dp.offline_batch_data_clean(meta_data_path='../alumni_scripts/meta_data.json', df = df)"
   ]
  },
  {
   "cell_type": "code",
   "execution_count": 5,
   "metadata": {
    "ExecuteTime": {
     "end_time": "2020-06-19T20:52:00.005310Z",
     "start_time": "2020-06-19T20:52:00.000450Z"
    },
    "hidden": true
   },
   "outputs": [],
   "source": [
    "df_cleaned.columns = column_aliases"
   ]
  },
  {
   "cell_type": "markdown",
   "metadata": {
    "hidden": true
   },
   "source": [
    "### Push data to a database"
   ]
  },
  {
   "cell_type": "code",
   "execution_count": 6,
   "metadata": {
    "ExecuteTime": {
     "end_time": "2020-06-19T20:52:12.562097Z",
     "start_time": "2020-06-19T20:52:12.538843Z"
    },
    "hidden": true
   },
   "outputs": [
    {
     "data": {
      "text/plain": [
       "[{'name': '_internal'}, {'name': 'bdx_batch_db'}]"
      ]
     },
     "execution_count": 6,
     "metadata": {},
     "output_type": "execute_result"
    }
   ],
   "source": [
    "\"\"\"\n",
    "before the next steps launch influxd client at a cli\n",
    "sudo influxd\n",
    "\"\"\"\n",
    "# launch python client for influxdb\n",
    "client = DataFrameClient(host='localhost', port=8086)\n",
    "# create a database inc case it's not there\n",
    "client.create_database('bdx_batch_db')\n",
    "# get list of database\n",
    "client.get_list_database()\n",
    "# switch to the databaase you want\n",
    "client.switch_database('bdx_batch_db')\n",
    "# write \"dataframe\" as \"measurements\"\n",
    "client.write_points(dataframe=df_cleaned,\n",
    "                    measurement='alumni_data_v1',\n",
    "                    tags={\n",
    "                        'data_cleaned': 'True',\n",
    "                        'aggregated': False,\n",
    "                        'time-interval': '5 minutes'\n",
    "                    },\n",
    "                    protocol='line',\n",
    "                    batch_size=5000)\n",
    "# see measurement added to curent db\n",
    "client.get_list_measurements()\n",
    "client.close()"
   ]
  },
  {
   "cell_type": "markdown",
   "metadata": {
    "hidden": true
   },
   "source": [
    "### Read data from the database"
   ]
  },
  {
   "cell_type": "code",
   "execution_count": 19,
   "metadata": {
    "ExecuteTime": {
     "end_time": "2020-06-19T20:57:03.903979Z",
     "start_time": "2020-06-19T20:57:03.873009Z"
    },
    "hidden": true
   },
   "outputs": [
    {
     "data": {
      "text/html": [
       "<div>\n",
       "<style scoped>\n",
       "    .dataframe tbody tr th:only-of-type {\n",
       "        vertical-align: middle;\n",
       "    }\n",
       "\n",
       "    .dataframe tbody tr th {\n",
       "        vertical-align: top;\n",
       "    }\n",
       "\n",
       "    .dataframe thead th {\n",
       "        text-align: right;\n",
       "    }\n",
       "</style>\n",
       "<table border=\"1\" class=\"dataframe\">\n",
       "  <thead>\n",
       "    <tr style=\"text-align: right;\">\n",
       "      <th></th>\n",
       "      <th>ee</th>\n",
       "      <th>oat</th>\n",
       "      <th>sat</th>\n",
       "      <th>sat_stpt</th>\n",
       "    </tr>\n",
       "  </thead>\n",
       "  <tbody>\n",
       "    <tr>\n",
       "      <th>2018-11-15 12:00:00+00:00</th>\n",
       "      <td>0.000000</td>\n",
       "      <td>33.107929</td>\n",
       "      <td>70.612915</td>\n",
       "      <td>73.0</td>\n",
       "    </tr>\n",
       "    <tr>\n",
       "      <th>2018-11-15 12:05:00+00:00</th>\n",
       "      <td>0.000000</td>\n",
       "      <td>33.107929</td>\n",
       "      <td>70.612915</td>\n",
       "      <td>73.0</td>\n",
       "    </tr>\n",
       "    <tr>\n",
       "      <th>2018-11-15 12:10:00+00:00</th>\n",
       "      <td>46.622402</td>\n",
       "      <td>33.107929</td>\n",
       "      <td>70.612915</td>\n",
       "      <td>73.0</td>\n",
       "    </tr>\n",
       "    <tr>\n",
       "      <th>2018-11-15 12:15:00+00:00</th>\n",
       "      <td>0.000000</td>\n",
       "      <td>33.107929</td>\n",
       "      <td>70.612915</td>\n",
       "      <td>73.0</td>\n",
       "    </tr>\n",
       "    <tr>\n",
       "      <th>2018-11-15 12:20:00+00:00</th>\n",
       "      <td>0.000000</td>\n",
       "      <td>33.107929</td>\n",
       "      <td>70.612915</td>\n",
       "      <td>73.0</td>\n",
       "    </tr>\n",
       "  </tbody>\n",
       "</table>\n",
       "</div>"
      ],
      "text/plain": [
       "                                  ee        oat        sat  sat_stpt\n",
       "2018-11-15 12:00:00+00:00   0.000000  33.107929  70.612915      73.0\n",
       "2018-11-15 12:05:00+00:00   0.000000  33.107929  70.612915      73.0\n",
       "2018-11-15 12:10:00+00:00  46.622402  33.107929  70.612915      73.0\n",
       "2018-11-15 12:15:00+00:00   0.000000  33.107929  70.612915      73.0\n",
       "2018-11-15 12:20:00+00:00   0.000000  33.107929  70.612915      73.0"
      ]
     },
     "execution_count": 19,
     "metadata": {},
     "output_type": "execute_result"
    }
   ],
   "source": [
    "\"\"\"\n",
    "before the next steps launch influxd client at a cli\n",
    "sudo influxd\n",
    "\"\"\"\n",
    "# launch python client for influxdb\n",
    "client = DataFrameClient(host='localhost', port=8086)\n",
    "# switch to the databaase you want\n",
    "client.switch_database('bdx_batch_db')\n",
    "results_obj = client.query(\n",
    "    \"select ee,oat,sat,sat_stpt from alumni_data_v1 \\\n",
    "    where time >= '2018-11-15 12:00:00' \\\n",
    "    and time < '2018-11-15 12:25:00'\"\n",
    ")\n",
    "df2 = results_obj['alumni_data_v1']\n",
    "df2"
   ]
  },
  {
   "cell_type": "code",
   "execution_count": 1,
   "metadata": {
    "ExecuteTime": {
     "end_time": "2020-06-19T20:24:14.854873Z",
     "start_time": "2020-06-19T20:24:13.316916Z"
    },
    "hidden": true
   },
   "outputs": [],
   "source": [
    "# including the project directory to the notebook level\n",
    "import os\n",
    "import sys\n",
    "module_path = os.path.abspath(os.path.join('..'))\n",
    "if module_path not in sys.path:\n",
    "    sys.path.append(module_path)\n",
    "    \n",
    "# import modules\n",
    "from alumni_scripts import data_process as dp\n",
    "from alumni_scripts import alumni_data_utils as utils\n",
    "import json\n",
    "import pandas as pd\n",
    "from influxdb import DataFrameClient"
   ]
  },
  {
   "cell_type": "code",
   "execution_count": 2,
   "metadata": {
    "hidden": true
   },
   "outputs": [],
   "source": [
    "df = pd.read_csv('../data/raw_data/alumni_data_jul2dec2018.csv',)\n",
    "df['time'] = pd.to_datetime(df['time'])\n",
    "df.set_index(keys='time',inplace=True, drop = True)\n",
    "df_cleaned = dp.offline_batch_data_clean(meta_data_path='../alumni_scripts/meta_data.json', df = df)"
   ]
  },
  {
   "cell_type": "code",
   "execution_count": 3,
   "metadata": {
    "hidden": true
   },
   "outputs": [],
   "source": [
    "\"\"\"\n",
    "before the next steps launch influxd client at a cli\n",
    "sudo influxd\n",
    "\"\"\"\n",
    "# launch python client for influxdb\n",
    "client = DataFrameClient(host='localhost', port=8086)\n",
    "# create a database inc case it's not there\n",
    "client.create_database('demo_alumni')\n",
    "# get list of database\n",
    "client.get_list_database()\n",
    "# switch to the databaase you want\n",
    "client.switch_database('demo_alumni')\n",
    "# write \"dataframe\" as \"measurements\"\n",
    "client.write_points(dataframe=df_cleaned, measurement='alumni_jul2dec2018', protocol='line', batch_size=5000)\n",
    "# see measurement added to curent db\n",
    "client.get_list_measurements()"
   ]
  },
  {
   "cell_type": "code",
   "execution_count": 8,
   "metadata": {
    "hidden": true
   },
   "outputs": [
    {
     "data": {
      "text/html": [
       "<div>\n",
       "<style scoped>\n",
       "    .dataframe tbody tr th:only-of-type {\n",
       "        vertical-align: middle;\n",
       "    }\n",
       "\n",
       "    .dataframe tbody tr th {\n",
       "        vertical-align: top;\n",
       "    }\n",
       "\n",
       "    .dataframe thead th {\n",
       "        text-align: right;\n",
       "    }\n",
       "</style>\n",
       "<table border=\"1\" class=\"dataframe\">\n",
       "  <thead>\n",
       "    <tr style=\"text-align: right;\">\n",
       "      <th></th>\n",
       "      <th>AHU_1 outdoorAirTemp</th>\n",
       "      <th>AHU_1 supplyAirTemp</th>\n",
       "      <th>AHU_1 supplyAirTempSetpoint</th>\n",
       "      <th>Alumni_Hall_PCHWS_T value</th>\n",
       "      <th>Alumni_Hall_PCHW_Flow value</th>\n",
       "      <th>CAFE_103_Indoor_Unit_50 localSetpoint</th>\n",
       "      <th>CHW_BTU_METER currentKbtuDeltaReading</th>\n",
       "      <th>CLASS_ROOM_201_Indoor_Unit_100 localSetpoint</th>\n",
       "      <th>COORIDOR_006A_Indoor_Unit_34 localSetpoint</th>\n",
       "      <th>CORRIDOR_108_Indoor_Unit_60 localSetpoint</th>\n",
       "      <th>...</th>\n",
       "      <th>Hot_Water_Flow_AI_2 value</th>\n",
       "      <th>LOUNGE_100_Indoor_Unit_40 localSetpoint</th>\n",
       "      <th>MEETING_117A_Indoor_Unit_63 localSetpoint</th>\n",
       "      <th>MEMORIAL_HALL_202_Indoor_Unit_67 localSetpoint</th>\n",
       "      <th>OFFICE_115_Indoor_Unit_77 localSetpoint</th>\n",
       "      <th>OFFICE_305_Indoor_Unit_74 localSetpoint</th>\n",
       "      <th>READING_ROOM_206_Indoor_Unit_108 localSetpoint</th>\n",
       "      <th>TUTORING_010_Indoor_Unit_10 localSetpoint</th>\n",
       "      <th>WRITING_STUDIO_113_Indoor_Unit_20 localSetpoint</th>\n",
       "      <th>WeatherDataProfile humidity</th>\n",
       "    </tr>\n",
       "  </thead>\n",
       "  <tbody>\n",
       "    <tr>\n",
       "      <th>2018-11-15 12:00:00+00:00</th>\n",
       "      <td>33.107929</td>\n",
       "      <td>70.612915</td>\n",
       "      <td>73.0</td>\n",
       "      <td>42.969219</td>\n",
       "      <td>-0.047234</td>\n",
       "      <td>72.0</td>\n",
       "      <td>0.0</td>\n",
       "      <td>72.0</td>\n",
       "      <td>72.0</td>\n",
       "      <td>72.0</td>\n",
       "      <td>...</td>\n",
       "      <td>28.971073</td>\n",
       "      <td>72.0</td>\n",
       "      <td>72.0</td>\n",
       "      <td>72.0</td>\n",
       "      <td>75.0</td>\n",
       "      <td>72.0</td>\n",
       "      <td>72.0</td>\n",
       "      <td>72.0</td>\n",
       "      <td>72.0</td>\n",
       "      <td>85.0</td>\n",
       "    </tr>\n",
       "  </tbody>\n",
       "</table>\n",
       "<p>1 rows × 29 columns</p>\n",
       "</div>"
      ],
      "text/plain": [
       "                           AHU_1 outdoorAirTemp  AHU_1 supplyAirTemp  \\\n",
       "2018-11-15 12:00:00+00:00             33.107929            70.612915   \n",
       "\n",
       "                           AHU_1 supplyAirTempSetpoint  \\\n",
       "2018-11-15 12:00:00+00:00                         73.0   \n",
       "\n",
       "                           Alumni_Hall_PCHWS_T value  \\\n",
       "2018-11-15 12:00:00+00:00                  42.969219   \n",
       "\n",
       "                           Alumni_Hall_PCHW_Flow value  \\\n",
       "2018-11-15 12:00:00+00:00                    -0.047234   \n",
       "\n",
       "                           CAFE_103_Indoor_Unit_50 localSetpoint  \\\n",
       "2018-11-15 12:00:00+00:00                                   72.0   \n",
       "\n",
       "                           CHW_BTU_METER currentKbtuDeltaReading  \\\n",
       "2018-11-15 12:00:00+00:00                                    0.0   \n",
       "\n",
       "                           CLASS_ROOM_201_Indoor_Unit_100 localSetpoint  \\\n",
       "2018-11-15 12:00:00+00:00                                          72.0   \n",
       "\n",
       "                           COORIDOR_006A_Indoor_Unit_34 localSetpoint  \\\n",
       "2018-11-15 12:00:00+00:00                                        72.0   \n",
       "\n",
       "                           CORRIDOR_108_Indoor_Unit_60 localSetpoint  ...  \\\n",
       "2018-11-15 12:00:00+00:00                                       72.0  ...   \n",
       "\n",
       "                           Hot_Water_Flow_AI_2 value  \\\n",
       "2018-11-15 12:00:00+00:00                  28.971073   \n",
       "\n",
       "                           LOUNGE_100_Indoor_Unit_40 localSetpoint  \\\n",
       "2018-11-15 12:00:00+00:00                                     72.0   \n",
       "\n",
       "                           MEETING_117A_Indoor_Unit_63 localSetpoint  \\\n",
       "2018-11-15 12:00:00+00:00                                       72.0   \n",
       "\n",
       "                           MEMORIAL_HALL_202_Indoor_Unit_67 localSetpoint  \\\n",
       "2018-11-15 12:00:00+00:00                                            72.0   \n",
       "\n",
       "                           OFFICE_115_Indoor_Unit_77 localSetpoint  \\\n",
       "2018-11-15 12:00:00+00:00                                     75.0   \n",
       "\n",
       "                           OFFICE_305_Indoor_Unit_74 localSetpoint  \\\n",
       "2018-11-15 12:00:00+00:00                                     72.0   \n",
       "\n",
       "                           READING_ROOM_206_Indoor_Unit_108 localSetpoint  \\\n",
       "2018-11-15 12:00:00+00:00                                            72.0   \n",
       "\n",
       "                           TUTORING_010_Indoor_Unit_10 localSetpoint  \\\n",
       "2018-11-15 12:00:00+00:00                                       72.0   \n",
       "\n",
       "                           WRITING_STUDIO_113_Indoor_Unit_20 localSetpoint  \\\n",
       "2018-11-15 12:00:00+00:00                                             72.0   \n",
       "\n",
       "                           WeatherDataProfile humidity  \n",
       "2018-11-15 12:00:00+00:00                         85.0  \n",
       "\n",
       "[1 rows x 29 columns]"
      ]
     },
     "execution_count": 8,
     "metadata": {},
     "output_type": "execute_result"
    }
   ],
   "source": [
    "results_obj = client.query(\n",
    "    \"select * from alumni_jul2dec2018 where time >= '2018-11-15 12:00:00' and time < '2018-11-15 12:05:00'\"\n",
    ")\n",
    "df2 = results_obj['alumni_jul2dec2018']\n",
    "df2"
   ]
  },
  {
   "cell_type": "code",
   "execution_count": 10,
   "metadata": {
    "hidden": true,
    "run_control": {
     "marked": false
    }
   },
   "outputs": [
    {
     "data": {
      "text/html": [
       "<div>\n",
       "<style scoped>\n",
       "    .dataframe tbody tr th:only-of-type {\n",
       "        vertical-align: middle;\n",
       "    }\n",
       "\n",
       "    .dataframe tbody tr th {\n",
       "        vertical-align: top;\n",
       "    }\n",
       "\n",
       "    .dataframe thead th {\n",
       "        text-align: right;\n",
       "    }\n",
       "</style>\n",
       "<table border=\"1\" class=\"dataframe\">\n",
       "  <thead>\n",
       "    <tr style=\"text-align: right;\">\n",
       "      <th></th>\n",
       "      <th>AHU_1 outdoorAirTemp</th>\n",
       "      <th>AHU_1 supplyAirTemp</th>\n",
       "      <th>AHU_1 supplyAirTempSetpoint</th>\n",
       "      <th>Alumni_Hall_PCHWS_T value</th>\n",
       "      <th>Alumni_Hall_PCHW_Flow value</th>\n",
       "      <th>CAFE_103_Indoor_Unit_50 localSetpoint</th>\n",
       "      <th>CHW_BTU_METER currentKbtuDeltaReading</th>\n",
       "      <th>CLASS_ROOM_201_Indoor_Unit_100 localSetpoint</th>\n",
       "      <th>COORIDOR_006A_Indoor_Unit_34 localSetpoint</th>\n",
       "      <th>CORRIDOR_108_Indoor_Unit_60 localSetpoint</th>\n",
       "      <th>...</th>\n",
       "      <th>Hot_Water_Flow_AI_2 value</th>\n",
       "      <th>LOUNGE_100_Indoor_Unit_40 localSetpoint</th>\n",
       "      <th>MEETING_117A_Indoor_Unit_63 localSetpoint</th>\n",
       "      <th>MEMORIAL_HALL_202_Indoor_Unit_67 localSetpoint</th>\n",
       "      <th>OFFICE_115_Indoor_Unit_77 localSetpoint</th>\n",
       "      <th>OFFICE_305_Indoor_Unit_74 localSetpoint</th>\n",
       "      <th>READING_ROOM_206_Indoor_Unit_108 localSetpoint</th>\n",
       "      <th>TUTORING_010_Indoor_Unit_10 localSetpoint</th>\n",
       "      <th>WRITING_STUDIO_113_Indoor_Unit_20 localSetpoint</th>\n",
       "      <th>WeatherDataProfile humidity</th>\n",
       "    </tr>\n",
       "  </thead>\n",
       "  <tbody>\n",
       "    <tr>\n",
       "      <th>2018-11-15 12:00:00+00:00</th>\n",
       "      <td>33.107929</td>\n",
       "      <td>70.612915</td>\n",
       "      <td>73.0</td>\n",
       "      <td>42.969219</td>\n",
       "      <td>-0.047234</td>\n",
       "      <td>72.0</td>\n",
       "      <td>0.0</td>\n",
       "      <td>72.0</td>\n",
       "      <td>72.0</td>\n",
       "      <td>72.0</td>\n",
       "      <td>...</td>\n",
       "      <td>28.971073</td>\n",
       "      <td>72.0</td>\n",
       "      <td>72.0</td>\n",
       "      <td>72.0</td>\n",
       "      <td>75.0</td>\n",
       "      <td>72.0</td>\n",
       "      <td>72.0</td>\n",
       "      <td>72.0</td>\n",
       "      <td>72.0</td>\n",
       "      <td>85.0</td>\n",
       "    </tr>\n",
       "  </tbody>\n",
       "</table>\n",
       "<p>1 rows × 29 columns</p>\n",
       "</div>"
      ],
      "text/plain": [
       "                           AHU_1 outdoorAirTemp  AHU_1 supplyAirTemp  \\\n",
       "2018-11-15 12:00:00+00:00             33.107929            70.612915   \n",
       "\n",
       "                           AHU_1 supplyAirTempSetpoint  \\\n",
       "2018-11-15 12:00:00+00:00                         73.0   \n",
       "\n",
       "                           Alumni_Hall_PCHWS_T value  \\\n",
       "2018-11-15 12:00:00+00:00                  42.969219   \n",
       "\n",
       "                           Alumni_Hall_PCHW_Flow value  \\\n",
       "2018-11-15 12:00:00+00:00                    -0.047234   \n",
       "\n",
       "                           CAFE_103_Indoor_Unit_50 localSetpoint  \\\n",
       "2018-11-15 12:00:00+00:00                                   72.0   \n",
       "\n",
       "                           CHW_BTU_METER currentKbtuDeltaReading  \\\n",
       "2018-11-15 12:00:00+00:00                                    0.0   \n",
       "\n",
       "                           CLASS_ROOM_201_Indoor_Unit_100 localSetpoint  \\\n",
       "2018-11-15 12:00:00+00:00                                          72.0   \n",
       "\n",
       "                           COORIDOR_006A_Indoor_Unit_34 localSetpoint  \\\n",
       "2018-11-15 12:00:00+00:00                                        72.0   \n",
       "\n",
       "                           CORRIDOR_108_Indoor_Unit_60 localSetpoint  ...  \\\n",
       "2018-11-15 12:00:00+00:00                                       72.0  ...   \n",
       "\n",
       "                           Hot_Water_Flow_AI_2 value  \\\n",
       "2018-11-15 12:00:00+00:00                  28.971073   \n",
       "\n",
       "                           LOUNGE_100_Indoor_Unit_40 localSetpoint  \\\n",
       "2018-11-15 12:00:00+00:00                                     72.0   \n",
       "\n",
       "                           MEETING_117A_Indoor_Unit_63 localSetpoint  \\\n",
       "2018-11-15 12:00:00+00:00                                       72.0   \n",
       "\n",
       "                           MEMORIAL_HALL_202_Indoor_Unit_67 localSetpoint  \\\n",
       "2018-11-15 12:00:00+00:00                                            72.0   \n",
       "\n",
       "                           OFFICE_115_Indoor_Unit_77 localSetpoint  \\\n",
       "2018-11-15 12:00:00+00:00                                     75.0   \n",
       "\n",
       "                           OFFICE_305_Indoor_Unit_74 localSetpoint  \\\n",
       "2018-11-15 12:00:00+00:00                                     72.0   \n",
       "\n",
       "                           READING_ROOM_206_Indoor_Unit_108 localSetpoint  \\\n",
       "2018-11-15 12:00:00+00:00                                            72.0   \n",
       "\n",
       "                           TUTORING_010_Indoor_Unit_10 localSetpoint  \\\n",
       "2018-11-15 12:00:00+00:00                                       72.0   \n",
       "\n",
       "                           WRITING_STUDIO_113_Indoor_Unit_20 localSetpoint  \\\n",
       "2018-11-15 12:00:00+00:00                                             72.0   \n",
       "\n",
       "                           WeatherDataProfile humidity  \n",
       "2018-11-15 12:00:00+00:00                         85.0  \n",
       "\n",
       "[1 rows x 29 columns]"
      ]
     },
     "execution_count": 10,
     "metadata": {},
     "output_type": "execute_result"
    }
   ],
   "source": [
    "results_obj2 = client.query(\n",
    "    \"select * from alumni_jul2dec2018 where time = '2018-11-15 12:00:00'\"\n",
    ")\n",
    "df3 = results_obj2['alumni_jul2dec2018']\n",
    "df3"
   ]
  },
  {
   "cell_type": "code",
   "execution_count": 11,
   "metadata": {
    "hidden": true
   },
   "outputs": [
    {
     "data": {
      "text/plain": [
       "[{'name': '_internal'}]"
      ]
     },
     "execution_count": 11,
     "metadata": {},
     "output_type": "execute_result"
    }
   ],
   "source": [
    "# drop the database after the demo\n",
    "client.drop_database('demo_alumni')\n",
    "client.get_list_database()"
   ]
  },
  {
   "cell_type": "markdown",
   "metadata": {
    "heading_collapsed": true
   },
   "source": [
    "## Create meta_data : Demo"
   ]
  },
  {
   "cell_type": "code",
   "execution_count": 1,
   "metadata": {
    "hidden": true
   },
   "outputs": [],
   "source": [
    "# including the project directory to the notebook level\n",
    "import os\n",
    "import sys\n",
    "module_path = os.path.abspath(os.path.join('..'))\n",
    "if module_path not in sys.path:\n",
    "    sys.path.append(module_path)\n",
    "    \n",
    "# import modules\n",
    "import pandas as pd\n",
    "import json\n",
    "import numpy as np"
   ]
  },
  {
   "cell_type": "markdown",
   "metadata": {
    "hidden": true
   },
   "source": [
    "### Create column_aliases"
   ]
  },
  {
   "cell_type": "code",
   "execution_count": 2,
   "metadata": {
    "hidden": true
   },
   "outputs": [],
   "source": [
    "df = pd.read_csv('../data/raw_data/alumni_data_jul2dec2018.csv', index_col='time')\n",
    "\n",
    "d1 = {'column_names': list(df.columns)}\n",
    "column_aliases = [\n",
    "    'pchwst', 'vrf50', 'oat', 'sat', 'sat_stpt', 'oah', 'vrf67', 'pchw_flow',\n",
    "    'hwe', 'vrf1', 'vrf30', 'vrf34', 'vrf74', 'cwe', 'hws_st_stpt', 'vrf60',\n",
    "    'vrf63', 'hws_st', 'hws_vlv1', 'vrf77', 'vrf64', 'vrf10', 'ee', 'hws_rt',\n",
    "    'vrf100', 'vrf40', 'hws_flow', 'vrf108', 'vrf20'\n",
    "]\n",
    "\n",
    "d2 = {}\n",
    "for i, j in zip(df.columns, column_aliases):\n",
    "    d2.update({j:i})\n",
    "d1['column_aliases'] = d2"
   ]
  },
  {
   "cell_type": "markdown",
   "metadata": {
    "hidden": true
   },
   "source": [
    "### Create column stats"
   ]
  },
  {
   "cell_type": "code",
   "execution_count": 3,
   "metadata": {
    "hidden": true
   },
   "outputs": [],
   "source": [
    "stats = {}\n",
    "d3 = dict(df.describe())\n",
    "for key in d3.keys():\n",
    "    stats[key] = dict(d3[key])\n",
    "d1['column_stats'] = stats"
   ]
  },
  {
   "cell_type": "markdown",
   "metadata": {
    "hidden": true
   },
   "source": [
    "### Dump meta data"
   ]
  },
  {
   "cell_type": "code",
   "execution_count": 4,
   "metadata": {
    "hidden": true,
    "scrolled": false
   },
   "outputs": [],
   "source": [
    "with open('../alumni_scripts/meta_data.json', 'w') as fp:\n",
    "    json.dump(d1, fp, indent=4)"
   ]
  },
  {
   "cell_type": "markdown",
   "metadata": {
    "hidden": true
   },
   "source": [
    "### Read meta data"
   ]
  },
  {
   "cell_type": "code",
   "execution_count": 5,
   "metadata": {
    "hidden": true
   },
   "outputs": [],
   "source": [
    "with open('../alumni_scripts/meta_data.json', 'r') as fp:\n",
    "        meta_data_ = json.load(fp)\n",
    "meta_data = meta_data_.copy()\n",
    "for key, value in meta_data_['column_stats'].items():\n",
    "    if value['std'] == 0:\n",
    "        meta_data['column_stats'][key]['std'] = 0.0001  # add small std for constant values\n",
    "stats = pd.DataFrame(meta_data['column_stats'])"
   ]
  },
  {
   "cell_type": "markdown",
   "metadata": {
    "heading_collapsed": true
   },
   "source": [
    "## Plot data before and after cleaning: Demo"
   ]
  },
  {
   "cell_type": "code",
   "execution_count": 1,
   "metadata": {
    "hidden": true
   },
   "outputs": [],
   "source": [
    "# including the project directory to the notebook level\n",
    "import os\n",
    "import sys\n",
    "module_path = os.path.abspath(os.path.join('..'))\n",
    "if module_path not in sys.path:\n",
    "    sys.path.append(module_path)\n",
    "    \n",
    "# import modules\n",
    "from alumni_scripts import data_process as dp\n",
    "from alumni_scripts import alumni_data_utils as utils\n",
    "import json\n",
    "import pandas as pd"
   ]
  },
  {
   "cell_type": "code",
   "execution_count": 2,
   "metadata": {
    "hidden": true
   },
   "outputs": [],
   "source": [
    "df = pd.read_csv('../data/raw_data/alumni_data_jul2dec2018.csv',)\n",
    "df['time'] = pd.to_datetime(df['time'])\n",
    "df.set_index(keys='time',inplace=True, drop = True)"
   ]
  },
  {
   "cell_type": "code",
   "execution_count": 3,
   "metadata": {
    "hidden": true
   },
   "outputs": [],
   "source": [
    "df_cleaned = dp.offline_batch_data_clean(meta_data_path='../alumni_scripts/meta_data.json', df = df)"
   ]
  },
  {
   "cell_type": "code",
   "execution_count": null,
   "metadata": {
    "hidden": true,
    "scrolled": false
   },
   "outputs": [],
   "source": [
    "for col_name in df.columns:\n",
    "    utils.dataframeplot(df[[col_name]],lazy=False,legend=True)\n",
    "    utils.dataframeplot(df_cleaned[[col_name]],lazy=False,legend=True)"
   ]
  },
  {
   "cell_type": "markdown",
   "metadata": {
    "heading_collapsed": true,
    "scrolled": false
   },
   "source": [
    "## Create Time Series Data Base: Demo only"
   ]
  }
 ],
 "metadata": {
  "kernelspec": {
   "display_name": "Python 3.6.9 64-bit ('sbvenv1': venv)",
   "language": "python",
   "name": "python36964bitsbvenv1venvf8f19bb32ed941ad82d727bac6ccbb65"
  },
  "language_info": {
   "codemirror_mode": {
    "name": "ipython",
    "version": 3
   },
   "file_extension": ".py",
   "mimetype": "text/x-python",
   "name": "python",
   "nbconvert_exporter": "python",
   "pygments_lexer": "ipython3",
   "version": "3.6.9"
  },
  "toc": {
   "base_numbering": 1,
   "nav_menu": {},
   "number_sections": true,
   "sideBar": true,
   "skip_h1_title": false,
   "title_cell": "Table of Contents",
   "title_sidebar": "Contents",
   "toc_cell": false,
   "toc_position": {
    "height": "calc(100% - 180px)",
    "left": "10px",
    "top": "150px",
    "width": "320px"
   },
   "toc_section_display": true,
   "toc_window_display": true
  }
 },
 "nbformat": 4,
 "nbformat_minor": 4
}
