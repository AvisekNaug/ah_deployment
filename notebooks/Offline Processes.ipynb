{
 "cells": [
  {
   "cell_type": "markdown",
   "metadata": {},
   "source": [
    "## Offline Data Processing"
   ]
  },
  {
   "cell_type": "code",
   "execution_count": 1,
   "metadata": {},
   "outputs": [],
   "source": [
    "# including the project directory to the notebook level\n",
    "import os\n",
    "import sys\n",
    "module_path = os.path.abspath(os.path.join('..'))\n",
    "if module_path not in sys.path:\n",
    "    sys.path.append(module_path)\n",
    "    \n",
    "# import modules\n",
    "from alumni_scripts import data_process as dp\n",
    "import json"
   ]
  },
  {
   "cell_type": "code",
   "execution_count": null,
   "metadata": {},
   "outputs": [],
   "source": [
    "# run a single update of the data pull\n",
    "with open('../auths.json', 'r') as fp:\n",
    "    api_args = json.load(fp)\n",
    "\n",
    "time_args = {\n",
    "    'start_year': 2018,'start_month': 8,'start_day': 1,'start_hour': 0,'start_minute': 0,'start_second': 0,\n",
    "    'end_year': 2018,'end_month': 8,'end_day': 1,'end_hour': 0,'end_minute': 30,'end_second': 0,\n",
    "    'trend_id': '2681',\n",
    "    'save_path':'../data/raw_data/alumni_data.csv'\n",
    "}\n",
    "api_args.update(time_args)\n",
    "\n",
    "dp.pull_offline_data(**api_args)"
   ]
  },
  {
   "cell_type": "code",
   "execution_count": 2,
   "metadata": {
    "run_control": {
     "marked": false
    }
   },
   "outputs": [
    {
     "name": "stdout",
     "output_type": "stream",
     "text": [
      "Success!\n",
      "Success!\n",
      "Success!\n",
      "Success!\n"
     ]
    }
   ],
   "source": [
    "# download data in a loop\n",
    "time_args = [\n",
    "    {\n",
    "    'start_year': 2018,'start_month': 7,'start_day': 1,'start_hour': 0,'start_minute': 0,'start_second': 0,\n",
    "    'end_year': 2018,'end_month': 12,'end_day': 31,'end_hour': 23,'end_minute': 59,'end_second': 59,\n",
    "    'trend_id': '2681',\n",
    "    'save_path':'../data/raw_data/alumni_data_jul2dec2018.csv'\n",
    "    },\n",
    "    {\n",
    "    'start_year': 2019,'start_month': 1,'start_day': 1,'start_hour': 0,'start_minute': 0,'start_second': 0,\n",
    "    'end_year': 2019,'end_month': 6,'end_day': 30,'end_hour': 23,'end_minute': 59,'end_second': 59,\n",
    "    'trend_id': '2681',\n",
    "    'save_path':'../data/raw_data/alumni_data_jan2jun2019.csv'  \n",
    "    },\n",
    "    {\n",
    "    'start_year': 2019,'start_month': 7,'start_day': 1,'start_hour': 0,'start_minute': 0,'start_second': 0,\n",
    "    'end_year': 2019,'end_month': 12,'end_day': 31,'end_hour': 23,'end_minute': 59,'end_second': 59,\n",
    "    'trend_id': '2681',\n",
    "    'save_path':'../data/raw_data/alumni_data_jul2dec2019.csv'  \n",
    "    },\n",
    "    {\n",
    "    'start_year': 2020,'start_month': 1,'start_day': 1,'start_hour': 0,'start_minute': 0,'start_second': 0,\n",
    "    'end_year': 2020,'end_month': 6,'end_day': 15,'end_hour': 23,'end_minute': 59,'end_second': 59,\n",
    "    'trend_id': '2681',\n",
    "    'save_path':'../data/raw_data/alumni_data_jan2jun2020.csv'  \n",
    "    }\n",
    "]\n",
    "for i in time_args:\n",
    "    with open('../auths.json', 'r') as fp:\n",
    "        api_args = json.load(fp)\n",
    "    api_args.update(i)\n",
    "    dp.pull_offline_data(**api_args)\n",
    "    print(\"Success!\")"
   ]
  },
  {
   "cell_type": "markdown",
   "metadata": {},
   "source": [
    "## Create meta_data"
   ]
  },
  {
   "cell_type": "code",
   "execution_count": 1,
   "metadata": {},
   "outputs": [],
   "source": [
    "# including the project directory to the notebook level\n",
    "import os\n",
    "import sys\n",
    "module_path = os.path.abspath(os.path.join('..'))\n",
    "if module_path not in sys.path:\n",
    "    sys.path.append(module_path)\n",
    "    \n",
    "# import modules\n",
    "import pandas as pd\n",
    "import json\n",
    "import numpy as np"
   ]
  },
  {
   "cell_type": "markdown",
   "metadata": {},
   "source": [
    "### Create column_aliases"
   ]
  },
  {
   "cell_type": "code",
   "execution_count": 2,
   "metadata": {},
   "outputs": [],
   "source": [
    "df = pd.read_csv('../data/raw_data/alumni_data_jul2dec2018.csv', index_col='time')\n",
    "\n",
    "d1 = {'column_names': list(df.columns)}\n",
    "column_aliases = [\n",
    "    'pchwst', 'vrf50', 'oat', 'sat', 'sat_stpt', 'oah', 'vrf67', 'pchw_flow',\n",
    "    'hwe', 'vrf1', 'vrf30', 'vrf34', 'vrf74', 'cwe', 'hws_st_stpt', 'vrf60',\n",
    "    'vrf63', 'hws_st', 'hws_vlv1', 'vrf77', 'vrf64', 'vrf10', 'ee', 'hws_rt',\n",
    "    'vrf100', 'vrf40', 'hws_flow', 'vrf108', 'vrf20'\n",
    "]\n",
    "\n",
    "d2 = {}\n",
    "for i, j in zip(df.columns, column_aliases):\n",
    "    d2.update({j:i})\n",
    "d1['column_aliases'] = d2"
   ]
  },
  {
   "cell_type": "markdown",
   "metadata": {},
   "source": [
    "### Create column stats"
   ]
  },
  {
   "cell_type": "code",
   "execution_count": 3,
   "metadata": {},
   "outputs": [],
   "source": [
    "stats = {}\n",
    "d3 = dict(df.describe())\n",
    "for key in d3.keys():\n",
    "    stats[key] = dict(d3[key])\n",
    "d1['column_stats'] = stats"
   ]
  },
  {
   "cell_type": "markdown",
   "metadata": {},
   "source": [
    "### Dump meta data"
   ]
  },
  {
   "cell_type": "code",
   "execution_count": 4,
   "metadata": {
    "scrolled": false
   },
   "outputs": [],
   "source": [
    "with open('../alumni_scripts/meta_data.json', 'w') as fp:\n",
    "    json.dump(d1, fp, indent=4)"
   ]
  },
  {
   "cell_type": "markdown",
   "metadata": {},
   "source": [
    "### Read meta data"
   ]
  },
  {
   "cell_type": "code",
   "execution_count": 5,
   "metadata": {},
   "outputs": [],
   "source": [
    "with open('../alumni_scripts/meta_data.json', 'r') as fp:\n",
    "        meta_data_ = json.load(fp)\n",
    "meta_data = meta_data_.copy()\n",
    "for key, value in meta_data_['column_stats'].items():\n",
    "    if value['std'] == 0:\n",
    "        meta_data['column_stats'][key]['std'] = 0.0001  # add small std for constant values\n",
    "stats = pd.DataFrame(meta_data['column_stats'])"
   ]
  }
 ],
 "metadata": {
  "kernelspec": {
   "display_name": "Python 3.6.9 64-bit ('sbvenv1': venv)",
   "language": "python",
   "name": "python36964bitsbvenv1venvf8f19bb32ed941ad82d727bac6ccbb65"
  },
  "language_info": {
   "codemirror_mode": {
    "name": "ipython",
    "version": 3
   },
   "file_extension": ".py",
   "mimetype": "text/x-python",
   "name": "python",
   "nbconvert_exporter": "python",
   "pygments_lexer": "ipython3",
   "version": "3.6.9"
  },
  "toc": {
   "base_numbering": 1,
   "nav_menu": {},
   "number_sections": true,
   "sideBar": true,
   "skip_h1_title": false,
   "title_cell": "Table of Contents",
   "title_sidebar": "Contents",
   "toc_cell": false,
   "toc_position": {},
   "toc_section_display": true,
   "toc_window_display": true
  }
 },
 "nbformat": 4,
 "nbformat_minor": 4
}
